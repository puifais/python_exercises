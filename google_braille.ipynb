{
 "cells": [
  {
   "cell_type": "markdown",
   "metadata": {},
   "source": [
    "Braille is a writing system used to read by touch instead of by sight. Each character is composed of 6 dots in a 2x3 grid, where each dot can either be a bump or be flat (no bump). You plan to translate the signs around the space station to Braille so that the minions under Commander Lambda's command can feel the bumps on the signs and \"read\" the text with their touch. The special printer which can print the bumps onto the signs expects the dots in the following order:\n",
    "1 4\n",
    "2 5\n",
    "3 6\n",
    "\n",
    "So given the plain text word \"code\", you get the Braille dots:\n",
    "\n",
    "11 10 11 10\n",
    "00 01 01 01\n",
    "00 10 00 00\n",
    "\n",
    "where 1 represents a bump and 0 represents no bump.  Put together, \"code\" becomes the output string \"100100101010100110100010\".\n",
    "\n",
    "Write a function answer(plaintext) that takes a string parameter and returns a string of 1's and 0's representing the bumps and absence of bumps in the input string. Your function should be able to encode the 26 lowercase letters, handle capital letters by adding a Braille capitalization mark before that character, and use a blank character (000000) for spaces. All signs on the space station are less than fifty characters long and use only letters and spaces."
   ]
  },
  {
   "cell_type": "markdown",
   "metadata": {},
   "source": [
    "Test cases\n",
    "==========\n",
    "\n",
    "Inputs:\n",
    "    (string) plaintext = \"code\"\n",
    "Output:\n",
    "    (string) \"100100101010100110100010\"\n",
    "\n",
    "Inputs:\n",
    "    (string) plaintext = \"Braille\"\n",
    "Output:\n",
    "    (string) \"000001110000111010100000010100111000111000100010\"\n",
    "\n",
    "Inputs:\n",
    "    (string) plaintext = \"The quick brown fox jumped over the lazy dog\"\n",
    "Output:\n",
    "    (string) \"000001011110110010100010000000111110101001010100100100101000000000110000111010101010010111101110000000110100101010101101000000010110101001101100111100100010100110000000101010111001100010111010000000011110110010100010000000111000100000101011101111000000100110101010110110\""
   ]
  },
  {
   "cell_type": "code",
   "execution_count": 34,
   "metadata": {
    "collapsed": true
   },
   "outputs": [],
   "source": [
    "def answer(plaintext):\n",
    "    braille_dict = {' ':'000000', 'cap':'000001',\n",
    "                   'a':'100000', 'b':'110000', 'c':'100100', 'd':'100110', 'e':'100010', 'f':'110100', 'g':'110110', 'h':'110010', 'i':'010100', 'j':'010110',\n",
    "                   'k':'101000', 'l':'111000', 'm':'101100', 'n':'101110', 'o':'101010', 'p':'111100', 'q':'111110', 'r':'111010', 's':'011100', 't':'011110',\n",
    "                   'u':'101001', 'v':'111001', 'x':'101101', 'y':'101111', 'z':'101011', 'w':'010111'}\n",
    "    char_list = list(plaintext)\n",
    "    #print(char_list)\n",
    "    \n",
    "    braille_translation = []\n",
    "    for char in char_list:\n",
    "        #print(char)\n",
    "        if char.isupper():\n",
    "            braille_translation.append(braille_dict['cap'])\n",
    "            #print(braille_dict[char.lower()])\n",
    "            braille_translation.append(braille_dict[char.lower()])\n",
    "            #print(braille_translation)\n",
    "        else:\n",
    "            #print(braille_dict[char])\n",
    "            braille_translation.append(braille_dict[char])\n",
    "            #print('braille_translation:  ', braille_translation)\n",
    "            \n",
    "    #print(braille_translation)\n",
    "    braille_translation = ''.join(braille_translation)\n",
    "    print(braille_translation)\n",
    "    return braille_translation"
   ]
  },
  {
   "cell_type": "code",
   "execution_count": 36,
   "metadata": {},
   "outputs": [
    {
     "name": "stdout",
     "output_type": "stream",
     "text": [
      "000001011110110010100010000000111110101001010100100100101000000000110000111010101010010111101110000000110100101010101101000000010110101001101100111100100010100110000000101010111001100010111010000000011110110010100010000000111000100000101011101111000000100110101010110110\n"
     ]
    },
    {
     "data": {
      "text/plain": [
       "True"
      ]
     },
     "execution_count": 36,
     "metadata": {},
     "output_type": "execute_result"
    }
   ],
   "source": [
    "plaintext = \"The quick brown fox jumped over the lazy dog\"\n",
    "translated_to_Braille = answer(plaintext)\n",
    "translated_to_Braille == \"000001011110110010100010000000111110101001010100100100101000000000110000111010101010010111101110000000110100101010101101000000010110101001101100111100100010100110000000101010111001100010111010000000011110110010100010000000111000100000101011101111000000100110101010110110\"\n"
   ]
  },
  {
   "cell_type": "code",
   "execution_count": null,
   "metadata": {
    "collapsed": true
   },
   "outputs": [],
   "source": []
  }
 ],
 "metadata": {
  "kernelspec": {
   "display_name": "Python 2",
   "language": "python",
   "name": "python2"
  },
  "language_info": {
   "codemirror_mode": {
    "name": "ipython",
    "version": 2
   },
   "file_extension": ".py",
   "mimetype": "text/x-python",
   "name": "python",
   "nbconvert_exporter": "python",
   "pygments_lexer": "ipython2",
   "version": "2.7.13"
  }
 },
 "nbformat": 4,
 "nbformat_minor": 2
}
