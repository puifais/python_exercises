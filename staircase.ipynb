{
 "cells": [
  {
   "cell_type": "markdown",
   "metadata": {},
   "source": [
    "Consider a staircase of size :\n",
    "\n",
    "   #\n",
    "  ##\n",
    " ###\n",
    "####\n",
    "Observe that its base and height are both equal to , and the image is drawn using # symbols and spaces. The last line is not preceded by any spaces.\n",
    "\n",
    "Write a program that prints a staircase of size .\n",
    "\n",
    "Input Format\n",
    "\n",
    "A single integer, , denoting the size of the staircase.\n",
    "\n",
    "Output Format\n",
    "\n",
    "Print a staircase of size  using # symbols and spaces.\n",
    "\n",
    "Note: The last line must have  spaces in it.\n",
    "\n",
    "Sample Input\n",
    "\n",
    "6 \n",
    "Sample Output\n",
    "\n",
    "     #\n",
    "    ##\n",
    "   ###\n",
    "  ####\n",
    " #####\n",
    "######\n",
    "Explanation\n",
    "\n",
    "The staircase is right-aligned, composed of # symbols and spaces, and has a height and width of ."
   ]
  },
  {
   "cell_type": "code",
   "execution_count": 5,
   "metadata": {
    "collapsed": true
   },
   "outputs": [],
   "source": [
    "def print_staircase(n):\n",
    "    staircase = list()\n",
    "    for i in range(n):\n",
    "        one_stair = [' '*(n-(i+1)) + '#'*(i+1)]\n",
    "        staircase.append(one_stair)\n",
    "    return staircase"
   ]
  },
  {
   "cell_type": "code",
   "execution_count": 1,
   "metadata": {
    "collapsed": false
   },
   "outputs": [
    {
     "name": "stdout",
     "output_type": "stream",
     "text": [
      "6\n"
     ]
    }
   ],
   "source": [
    "import sys\n",
    "\n",
    "n = int(input().strip())"
   ]
  },
  {
   "cell_type": "code",
   "execution_count": 6,
   "metadata": {
    "collapsed": false
   },
   "outputs": [
    {
     "data": {
      "text/plain": [
       "[['     #'], ['    ##'], ['   ###'], ['  ####'], [' #####'], ['######']]"
      ]
     },
     "execution_count": 6,
     "metadata": {},
     "output_type": "execute_result"
    }
   ],
   "source": [
    "print_staircase(n)"
   ]
  },
  {
   "cell_type": "code",
   "execution_count": null,
   "metadata": {
    "collapsed": true
   },
   "outputs": [],
   "source": []
  }
 ],
 "metadata": {
  "kernelspec": {
   "display_name": "Python 3",
   "language": "python",
   "name": "python3"
  },
  "language_info": {
   "codemirror_mode": {
    "name": "ipython",
    "version": 3
   },
   "file_extension": ".py",
   "mimetype": "text/x-python",
   "name": "python",
   "nbconvert_exporter": "python",
   "pygments_lexer": "ipython3",
   "version": "3.6.0"
  }
 },
 "nbformat": 4,
 "nbformat_minor": 2
}
