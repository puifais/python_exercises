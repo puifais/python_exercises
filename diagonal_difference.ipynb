{
 "cells": [
  {
   "cell_type": "markdown",
   "metadata": {},
   "source": [
    "Given a square matrix of size , calculate the absolute difference between the sums of its diagonals.\n",
    "\n",
    "Input Format\n",
    "\n",
    "The first line contains a single integer, . The next  lines denote the matrix's rows, with each line containing  space-separated integers describing the columns.\n",
    "\n",
    "Constraints\n",
    "\n",
    "Output Format\n",
    "\n",
    "Print the absolute difference between the two sums of the matrix's diagonals as a single integer.\n",
    "\n",
    "Sample Input\n",
    "\n",
    "3\n",
    "11 2 4\n",
    "4 5 6\n",
    "10 8 -12\n",
    "Sample Output\n",
    "\n",
    "15\n",
    "Explanation\n",
    "\n",
    "The primary diagonal is:\n",
    "\n",
    "11\n",
    "   5\n",
    "     -12\n",
    "Sum across the primary diagonal: 11 + 5 - 12 = 4\n",
    "\n",
    "The secondary diagonal is:\n",
    "\n",
    "     4\n",
    "   5\n",
    "10\n",
    "Sum across the secondary diagonal: 4 + 5 + 10 = 19 \n",
    "Difference: |4 - 19| = 15\n",
    "\n",
    "Note: |x| is absolute value function"
   ]
  },
  {
   "cell_type": "code",
   "execution_count": 3,
   "metadata": {
    "collapsed": false
   },
   "outputs": [
    {
     "name": "stdout",
     "output_type": "stream",
     "text": [
      "3\n",
      "11 2 4\n",
      "4 5 6\n",
      "10 8 -12\n"
     ]
    }
   ],
   "source": [
    "import sys\n",
    "\n",
    "n = int(input().strip())\n",
    "a = []\n",
    "for a_i in range(n):\n",
    "    a_t = [int(a_temp) for a_temp in input().strip().split(' ')]\n",
    "    a.append(a_t)"
   ]
  },
  {
   "cell_type": "code",
   "execution_count": 4,
   "metadata": {
    "collapsed": false
   },
   "outputs": [
    {
     "data": {
      "text/plain": [
       "[[11, 2, 4], [4, 5, 6], [10, 8, -12]]"
      ]
     },
     "execution_count": 4,
     "metadata": {},
     "output_type": "execute_result"
    }
   ],
   "source": [
    "a"
   ]
  },
  {
   "cell_type": "code",
   "execution_count": 10,
   "metadata": {
    "collapsed": true
   },
   "outputs": [],
   "source": [
    "import numpy as np\n",
    "def diagonal_diff(n,a):\n",
    "    given_arr = np.array(a)\n",
    "    left_sum = 0\n",
    "    right_sum = 0\n",
    "    for index in range(n):\n",
    "        left_sum += given_arr[index][index]\n",
    "        right_sum += given_arr[index][n-index-1]\n",
    "    \n",
    "    answer = abs(left_sum - right_sum)\n",
    "    return answer"
   ]
  },
  {
   "cell_type": "code",
   "execution_count": 11,
   "metadata": {
    "collapsed": false
   },
   "outputs": [
    {
     "data": {
      "text/plain": [
       "15"
      ]
     },
     "execution_count": 11,
     "metadata": {},
     "output_type": "execute_result"
    }
   ],
   "source": [
    "diagonal_diff(n,a)"
   ]
  },
  {
   "cell_type": "code",
   "execution_count": null,
   "metadata": {
    "collapsed": true
   },
   "outputs": [],
   "source": []
  }
 ],
 "metadata": {
  "kernelspec": {
   "display_name": "Python 3",
   "language": "python",
   "name": "python3"
  },
  "language_info": {
   "codemirror_mode": {
    "name": "ipython",
    "version": 3
   },
   "file_extension": ".py",
   "mimetype": "text/x-python",
   "name": "python",
   "nbconvert_exporter": "python",
   "pygments_lexer": "ipython3",
   "version": "3.6.0"
  }
 },
 "nbformat": 4,
 "nbformat_minor": 2
}
