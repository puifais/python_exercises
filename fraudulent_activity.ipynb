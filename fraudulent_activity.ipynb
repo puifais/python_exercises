{
 "cells": [
  {
   "cell_type": "markdown",
   "metadata": {},
   "source": [
    "HackerLand National Bank has a simple policy for warning clients about possible fraudulent account activity. If the amount spent by a client on a particular day is greater than or equal to  the client's median spending for the last  days, they send the client a notification about potential fraud. The bank doesn't send the client any notifications until they have at least  prior days of transaction data.\n",
    "\n",
    "Given the value of  and a client's total daily expenditures for a period of  days, find and print the number of times the client will receive a notification over all  days.\n",
    "\n",
    "Note: The median of a list of numbers can be found by arranging all the numbers from smallest to greatest. If there is an odd number of numbers, the middle one is picked. If there is an even number of numbers, median is then defined to be the average of the two middle values. (Wikipedia)\n",
    "\n",
    "Input Format\n",
    "\n",
    "The first line contains two space-separated integers denoting the respective values of (the number of days there is transaction data for) and  (the number of prior days the bank uses to calculate median spending). \n",
    "The second line contains  space-separated non-negative integers where each integer denotes  (i.e., the client's total  for day ).\n",
    "\n",
    "Constraints\n",
    "\n",
    "Output Format\n",
    "\n",
    "Print an integer denoting the total number of times the client receives a notification over a period of  days.\n",
    "\n",
    "Sample Input 0\n",
    "\n",
    "9 5\n",
    "2 3 4 2 3 6 8 4 5\n",
    "Sample Output 0\n",
    "\n",
    "2\n",
    "Explanation 0\n",
    "\n",
    "We must determine the total number of  the client receives over a period of  days. For the first five days, the customer receives no notifications because the bank has insufficient transaction data and .\n",
    "\n",
    "On the sixth day, the bank has  days of prior transaction data, , and  dollars. The client spends dollars, which triggers a notification because . Thus, .\n",
    "\n",
    "On the seventh day, the bank has  days of prior transaction data, , and  dollars. The client spends dollars, which triggers a notification because . Thus, .\n",
    "\n",
    "On the eighth day, the bank has  days of prior transaction data, , and  dollars. The client spends dollars, which does not trigger a notification because .\n",
    "\n",
    "On the ninth day, the bank has  days of prior transaction data, , and a transaction median of  dollars. The client spends  dollars, which does not trigger a notification because .\n",
    "\n",
    "We then print the final value of  (which is ) as our answer.\n",
    "\n",
    "Sample Input 1\n",
    "\n",
    "5 4\n",
    "1 2 3 4 4\n",
    "Sample Output 1\n",
    "\n",
    "0"
   ]
  },
  {
   "cell_type": "code",
   "execution_count": 53,
   "metadata": {
    "collapsed": false
   },
   "outputs": [],
   "source": [
    "#!/bin/python3\n",
    "\n",
    "import sys\n",
    "import numpy as np\n",
    "\n",
    "def activityNotifications(expenditure, d, n):\n",
    "    expenditure_array = np.array(expenditure)\n",
    "    num_alert = 0   \n",
    "    \n",
    "    for i in range(d,len(expenditure)):\n",
    "        last_threshold = 2*np.median(expenditure_array[(i-d):i])\n",
    "        \n",
    "        if expenditure_array[i] >= last_threshold:\n",
    "            num_alert += 1  \n",
    "            \n",
    "    return num_alert"
   ]
  },
  {
   "cell_type": "code",
   "execution_count": 55,
   "metadata": {
    "collapsed": false
   },
   "outputs": [
    {
     "name": "stdout",
     "output_type": "stream",
     "text": [
      "5 4\n",
      "1 2 3 4 4\n",
      "0\n"
     ]
    }
   ],
   "source": [
    "if __name__ == \"__main__\":\n",
    "    n, d = input().strip().split(' ')\n",
    "    n, d = [int(n), int(d)]\n",
    "    expenditure = list(map(int, input().strip().split(' ')))\n",
    "    result = activityNotifications(expenditure, d, n)\n",
    "    print(result)"
   ]
  },
  {
   "cell_type": "code",
   "execution_count": null,
   "metadata": {
    "collapsed": true
   },
   "outputs": [],
   "source": []
  }
 ],
 "metadata": {
  "kernelspec": {
   "display_name": "Python 3",
   "language": "python",
   "name": "python3"
  },
  "language_info": {
   "codemirror_mode": {
    "name": "ipython",
    "version": 3
   },
   "file_extension": ".py",
   "mimetype": "text/x-python",
   "name": "python",
   "nbconvert_exporter": "python",
   "pygments_lexer": "ipython3",
   "version": "3.6.0"
  }
 },
 "nbformat": 4,
 "nbformat_minor": 2
}
