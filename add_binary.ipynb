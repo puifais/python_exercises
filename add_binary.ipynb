{
 "cells": [
  {
   "cell_type": "markdown",
   "metadata": {},
   "source": [
    "Given two binary strings, return their sum (also a binary string).\n",
    "\n",
    "For example,\n",
    "a = \"11\"\n",
    "b = \"1\"\n",
    "Return \"100\"."
   ]
  },
  {
   "cell_type": "code",
   "execution_count": 53,
   "metadata": {
    "collapsed": true
   },
   "outputs": [],
   "source": [
    "def add_binary(str1,str2):\n",
    "    answer_in_tenthnum = binarystr_to_tenthnum(str1) + binarystr_to_tenthnum(str2)\n",
    "    answer_in_binarystr = tenthnum_to_binarystr(answer_in_tenthnum)\n",
    "    return answer_in_binarystr"
   ]
  },
  {
   "cell_type": "code",
   "execution_count": 54,
   "metadata": {
    "collapsed": false
   },
   "outputs": [],
   "source": [
    "def binarystr_to_tenthnum(given_str):\n",
    "    tenth_equivalent = 0\n",
    "    for digit,value in enumerate(given_str[::-1]):\n",
    "        print('digit:  ', digit)\n",
    "        print('value:  ', value)\n",
    "        tenth_equivalent += int(value) * (2**digit)\n",
    "    return tenth_equivalent"
   ]
  },
  {
   "cell_type": "code",
   "execution_count": 55,
   "metadata": {
    "collapsed": true
   },
   "outputs": [],
   "source": [
    "# I started writing my own function then realized there's a faster built-in\n",
    "def tenthnum_to_binarystr(given_num):\n",
    "    binary_equivalent = bin(given_num)[2:]\n",
    "    return binary_equivalent"
   ]
  },
  {
   "cell_type": "code",
   "execution_count": 56,
   "metadata": {
    "collapsed": false
   },
   "outputs": [
    {
     "name": "stdout",
     "output_type": "stream",
     "text": [
      "digit:   0\n",
      "value:   1\n",
      "digit:   1\n",
      "value:   1\n",
      "digit:   0\n",
      "value:   1\n"
     ]
    },
    {
     "data": {
      "text/plain": [
       "'100'"
      ]
     },
     "execution_count": 56,
     "metadata": {},
     "output_type": "execute_result"
    }
   ],
   "source": [
    "add_binary('11','1')"
   ]
  },
  {
   "cell_type": "code",
   "execution_count": null,
   "metadata": {
    "collapsed": true
   },
   "outputs": [],
   "source": []
  }
 ],
 "metadata": {
  "kernelspec": {
   "display_name": "Python 3",
   "language": "python",
   "name": "python3"
  },
  "language_info": {
   "codemirror_mode": {
    "name": "ipython",
    "version": 3
   },
   "file_extension": ".py",
   "mimetype": "text/x-python",
   "name": "python",
   "nbconvert_exporter": "python",
   "pygments_lexer": "ipython3",
   "version": "3.6.0"
  }
 },
 "nbformat": 4,
 "nbformat_minor": 2
}
