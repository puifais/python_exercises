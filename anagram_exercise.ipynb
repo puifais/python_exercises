{
 "cells": [
  {
   "cell_type": "code",
   "execution_count": 20,
   "metadata": {
    "collapsed": true
   },
   "outputs": [],
   "source": [
    "def is_anagram(word1,word2):\n",
    "    if word1 == word2:\n",
    "        return False\n",
    "    elif len(word1) == len(word2) and sorted(word1.lower()) == sorted(word2.lower()):\n",
    "        return True\n",
    "    else:\n",
    "        return False\n",
    "        "
   ]
  },
  {
   "cell_type": "code",
   "execution_count": 22,
   "metadata": {
    "collapsed": false
   },
   "outputs": [
    {
     "data": {
      "text/plain": [
       "True"
      ]
     },
     "execution_count": 22,
     "metadata": {},
     "output_type": "execute_result"
    }
   ],
   "source": [
    "is_anagram('cTa','tac')"
   ]
  },
  {
   "cell_type": "code",
   "execution_count": 28,
   "metadata": {
    "collapsed": false
   },
   "outputs": [],
   "source": [
    "def find_anagram(given_list):\n",
    "    for word_comparing in given_list:\n",
    "        for current_word in given_list:\n",
    "            answer = is_anagram(word_comparing,current_word)\n",
    "            if answer == True:\n",
    "                print '%s is an anagram of %s' %(word_comparing, current_word)\n",
    "        "
   ]
  },
  {
   "cell_type": "code",
   "execution_count": 29,
   "metadata": {
    "collapsed": false
   },
   "outputs": [
    {
     "name": "stdout",
     "output_type": "stream",
     "text": [
      "rats is an anagram of arts\n",
      "rats is an anagram of star\n",
      "god is an anagram of dog\n",
      "dog is an anagram of god\n",
      "arts is an anagram of rats\n",
      "arts is an anagram of star\n",
      "arts is an anagram of rats\n",
      "star is an anagram of rats\n",
      "star is an anagram of arts\n",
      "star is an anagram of rats\n",
      "rats is an anagram of arts\n",
      "rats is an anagram of star\n"
     ]
    }
   ],
   "source": [
    "find_anagram(['bat', 'bat', 'rats', 'god', 'dog', 'cat', 'arts', 'star', 'rats'])"
   ]
  },
  {
   "cell_type": "code",
   "execution_count": null,
   "metadata": {
    "collapsed": true
   },
   "outputs": [],
   "source": []
  }
 ],
 "metadata": {
  "kernelspec": {
   "display_name": "Python 2",
   "language": "python",
   "name": "python2"
  },
  "language_info": {
   "codemirror_mode": {
    "name": "ipython",
    "version": 2
   },
   "file_extension": ".py",
   "mimetype": "text/x-python",
   "name": "python",
   "nbconvert_exporter": "python",
   "pygments_lexer": "ipython2",
   "version": "2.7.10"
  }
 },
 "nbformat": 4,
 "nbformat_minor": 1
}
