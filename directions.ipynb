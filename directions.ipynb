{
 "cells": [
  {
   "cell_type": "markdown",
   "metadata": {},
   "source": [
    "Given an MxN room with sequentially enumerated tiles, return directions to visit requested locations.\n",
    "\n",
    "Ex\n",
    "\n",
    "room = [[1, 2, 3, 4],\n",
    "        [5, 6, 7, 8],\n",
    "        [9,10,11,12]]\n",
    "start = 6\n",
    "locations = [4,12]\n",
    "possible_ans:  right, right, up, visit, down, down, visit"
   ]
  },
  {
   "cell_type": "code",
   "execution_count": 76,
   "metadata": {
    "collapsed": true
   },
   "outputs": [],
   "source": [
    "def directions(room, start, locations):\n",
    "    current_pos_value = start\n",
    "    for destination in locations:\n",
    "        current_m,current_n = get_coordinates(current_pos_value, room)\n",
    "        destination_m,destination_n = get_coordinates(destination,room)\n",
    "        print(get_movements(current_m, current_n, destination_m, destination_n))\n",
    "        current_pos_value = destination"
   ]
  },
  {
   "cell_type": "code",
   "execution_count": 62,
   "metadata": {
    "collapsed": false
   },
   "outputs": [],
   "source": [
    "def get_coordinates(position_value, room):\n",
    "    # assume no repeating numbers in room\n",
    "    for row,column in enumerate(room):\n",
    "        if position_value in column:\n",
    "            m = row\n",
    "            n = column.index(position_value)\n",
    "            return m,n"
   ]
  },
  {
   "cell_type": "code",
   "execution_count": 78,
   "metadata": {
    "collapsed": false
   },
   "outputs": [],
   "source": [
    "def get_movements(start_m, start_n, destination_m, destination_n):\n",
    "    movements = []\n",
    "    displacement = [destination_m - start_m,destination_n - start_n]\n",
    "    #print(displacement)\n",
    "    \n",
    "    while displacement != [0,0]:  \n",
    "        # deal with m\n",
    "        if displacement[0] > 0:\n",
    "            movements.append('down')\n",
    "            displacement[0] -= 1\n",
    "        if displacement[0] < 0:\n",
    "            movements.append('up')\n",
    "            displacement[0] += 1\n",
    "            \n",
    "        # deal with n\n",
    "        if displacement[1] > 0:\n",
    "            movements.append('right')\n",
    "            displacement[1] -= 1\n",
    "        if displacement[1] < 0:\n",
    "            movements.append('left')\n",
    "            displacement[1] += 1\n",
    "            \n",
    "    movements.append('visit')\n",
    "    return movements"
   ]
  },
  {
   "cell_type": "code",
   "execution_count": 81,
   "metadata": {
    "collapsed": true
   },
   "outputs": [],
   "source": [
    "room = [[1, 2, 3, 4], [5, 6, 7, 8], [9,10,11,12]]\n",
    "start = 6\n",
    "locations = [4,12]"
   ]
  },
  {
   "cell_type": "code",
   "execution_count": 82,
   "metadata": {
    "collapsed": false
   },
   "outputs": [
    {
     "data": {
      "text/plain": [
       "(1, 1)"
      ]
     },
     "execution_count": 82,
     "metadata": {},
     "output_type": "execute_result"
    }
   ],
   "source": [
    "get_coordinates(start,room)"
   ]
  },
  {
   "cell_type": "code",
   "execution_count": 83,
   "metadata": {
    "collapsed": false
   },
   "outputs": [
    {
     "data": {
      "text/plain": [
       "['down', 'right', 'down', 'down', 'down', 'visit']"
      ]
     },
     "execution_count": 83,
     "metadata": {},
     "output_type": "execute_result"
    }
   ],
   "source": [
    "get_movements(0,0,4,1)"
   ]
  },
  {
   "cell_type": "code",
   "execution_count": 84,
   "metadata": {
    "collapsed": false
   },
   "outputs": [
    {
     "name": "stdout",
     "output_type": "stream",
     "text": [
      "['up', 'right', 'right', 'visit']\n",
      "['down', 'down', 'visit']\n"
     ]
    }
   ],
   "source": [
    "directions(room, start, locations)"
   ]
  }
 ],
 "metadata": {
  "kernelspec": {
   "display_name": "Python 3",
   "language": "python",
   "name": "python3"
  },
  "language_info": {
   "codemirror_mode": {
    "name": "ipython",
    "version": 3
   },
   "file_extension": ".py",
   "mimetype": "text/x-python",
   "name": "python",
   "nbconvert_exporter": "python",
   "pygments_lexer": "ipython3",
   "version": "3.6.0"
  }
 },
 "nbformat": 4,
 "nbformat_minor": 2
}
