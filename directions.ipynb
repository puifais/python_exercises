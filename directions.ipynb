{
 "cells": [
  {
   "cell_type": "markdown",
   "metadata": {},
   "source": [
    "Given an MxN room with sequentially enumerated tiles, return directions to visit requested locations.\n",
    "\n",
    "Ex\n",
    "\n",
    "room = [[1, 2, 3, 4],\n",
    "        [5, 6, 7, 8],\n",
    "        [9,10,11,12]]\n",
    "start = 6\n",
    "locations = [4,12]\n",
    "possible_ans:  right, right, up, visit, down, down, visit"
   ]
  },
  {
   "cell_type": "code",
   "execution_count": 1,
   "metadata": {
    "collapsed": true
   },
   "outputs": [],
   "source": [
    "def directions(room, start, locations):\n",
    "    current_pos = start\n",
    "    for destination in locations:\n",
    "        current_mn = get_coordinates(current_pos, room)\n",
    "        destination_mn = get_coordinates(destination)\n",
    "        print(get_movements(current_mn, destination_mn))\n",
    "        current_pos = destination"
   ]
  },
  {
   "cell_type": "code",
   "execution_count": 2,
   "metadata": {
    "collapsed": false
   },
   "outputs": [
    {
     "ename": "SyntaxError",
     "evalue": "invalid syntax (<ipython-input-2-e1d4b4dc8c96>, line 3)",
     "output_type": "error",
     "traceback": [
      "\u001b[0;36m  File \u001b[0;32m\"<ipython-input-2-e1d4b4dc8c96>\"\u001b[0;36m, line \u001b[0;32m3\u001b[0m\n\u001b[0;31m    for mn,value enumerate room:\u001b[0m\n\u001b[0m                         ^\u001b[0m\n\u001b[0;31mSyntaxError\u001b[0m\u001b[0;31m:\u001b[0m invalid syntax\n"
     ]
    }
   ],
   "source": [
    "def get_coordinates(position, room):\n",
    "    # assume no repeating numbers in room\n",
    "    for mn,value enumerate room:\n",
    "        if value == position:\n",
    "            return mn"
   ]
  },
  {
   "cell_type": "code",
   "execution_count": 6,
   "metadata": {
    "collapsed": false
   },
   "outputs": [],
   "source": [
    "def get_movements(start_mn, destination_mn):\n",
    "    movements = []\n",
    "    displacement = destination_mn - start_mn\n",
    "    if displacement == [0,0]:\n",
    "        movements.append('visit')\n",
    "\n",
    "    while displacement != [0,0]:\n",
    "        if displacement[0] > 0:\n",
    "            movements.append('right')\n",
    "            displacement[0] += -1\n",
    "        else:\n",
    "            movements.append('left')\n",
    "            displacement[0] += 1\n",
    "\n",
    "        if displacement[1] > 0:\n",
    "            movements.append('down')\n",
    "        else:\n",
    "            movements.append('up')\n",
    "\n",
    "    return movements"
   ]
  },
  {
   "cell_type": "code",
   "execution_count": 7,
   "metadata": {
    "collapsed": true
   },
   "outputs": [],
   "source": [
    "room = [[1, 2, 3, 4], [5, 6, 7, 8], [9,10,11,12]]\n",
    "start = 6\n",
    "location = [4,12]"
   ]
  },
  {
   "cell_type": "code",
   "execution_count": null,
   "metadata": {
    "collapsed": true
   },
   "outputs": [],
   "source": []
  }
 ],
 "metadata": {
  "kernelspec": {
   "display_name": "Python 3",
   "language": "python",
   "name": "python3"
  },
  "language_info": {
   "codemirror_mode": {
    "name": "ipython",
    "version": 3
   },
   "file_extension": ".py",
   "mimetype": "text/x-python",
   "name": "python",
   "nbconvert_exporter": "python",
   "pygments_lexer": "ipython3",
   "version": "3.6.0"
  }
 },
 "nbformat": 4,
 "nbformat_minor": 2
}
