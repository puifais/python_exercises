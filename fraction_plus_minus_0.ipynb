{
 "cells": [
  {
   "cell_type": "markdown",
   "metadata": {},
   "source": [
    "Given an array of integers, calculate which fraction of its elements are positive, which fraction of its elements are negative, and which fraction of its elements are zeroes, respectively. Print the decimal value of each fraction on a new line.\n",
    "\n",
    "Note: This challenge introduces precision problems. The test cases are scaled to six decimal places, though answers with absolute error of up to  are acceptable.\n",
    "\n",
    "Input Format\n",
    "\n",
    "The first line contains an integer, , denoting the size of the array. \n",
    "The second line contains  space-separated integers describing an array of numbers .\n",
    "\n",
    "Output Format\n",
    "\n",
    "You must print the following  lines:\n",
    "\n",
    "A decimal representing of the fraction of positive numbers in the array compared to its size.\n",
    "A decimal representing of the fraction of negative numbers in the array compared to its size.\n",
    "A decimal representing of the fraction of zeroes in the array compared to its size.\n",
    "Sample Input\n",
    "\n",
    "6\n",
    "-4 3 -9 0 4 1         \n",
    "Sample Output\n",
    "\n",
    "0.500000\n",
    "0.333333\n",
    "0.166667\n",
    "Explanation\n",
    "\n",
    "There are  positive numbers,  negative numbers, and  zero in the array. \n",
    "The respective fractions of positive numbers, negative numbers and zeroes are ,  and , respectively."
   ]
  },
  {
   "cell_type": "code",
   "execution_count": 1,
   "metadata": {
    "collapsed": true
   },
   "outputs": [],
   "source": [
    "def fraction_plus_minus(n,arr):\n",
    "    import numpy as np\n",
    "    arr = np.array(arr)\n",
    "    num_pos = sum(arr > 0)\n",
    "    num_neg = sum(arr < 0)\n",
    "    num_zero = arr.size - num_pos -num_neg\n",
    "    \n",
    "    answer = np.array([num_pos/arr.size,num_neg/arr.size,num_zero/arr.size])\n",
    "    print(num_pos/arr.size)\n",
    "    print(num_neg/arr.size)\n",
    "    print(num_zero/arr.size)\n",
    "    #return answer"
   ]
  },
  {
   "cell_type": "code",
   "execution_count": 2,
   "metadata": {
    "collapsed": false
   },
   "outputs": [
    {
     "name": "stdout",
     "output_type": "stream",
     "text": [
      "5\n",
      "1 0 -5 -6 2\n",
      "0.4\n",
      "0.4\n",
      "0.2\n"
     ]
    }
   ],
   "source": [
    "n = int(input().strip())\n",
    "arr = [int(arr_temp) for arr_temp in input().strip().split(' ')]\n",
    "    \n",
    "fraction_plus_minus(n,arr)"
   ]
  },
  {
   "cell_type": "code",
   "execution_count": null,
   "metadata": {
    "collapsed": true
   },
   "outputs": [],
   "source": []
  }
 ],
 "metadata": {
  "kernelspec": {
   "display_name": "Python 3",
   "language": "python",
   "name": "python3"
  },
  "language_info": {
   "codemirror_mode": {
    "name": "ipython",
    "version": 3
   },
   "file_extension": ".py",
   "mimetype": "text/x-python",
   "name": "python",
   "nbconvert_exporter": "python",
   "pygments_lexer": "ipython3",
   "version": "3.6.0"
  }
 },
 "nbformat": 4,
 "nbformat_minor": 2
}
