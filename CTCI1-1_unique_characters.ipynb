{
 "cells": [
  {
   "cell_type": "markdown",
   "metadata": {},
   "source": [
    "### Determine if a string has all unique characters"
   ]
  },
  {
   "cell_type": "code",
   "execution_count": 60,
   "metadata": {
    "collapsed": false
   },
   "outputs": [],
   "source": [
    "def unique_char(given_string):\n",
    "    test_string = given_string.lower()\n",
    "    used_char = {}\n",
    "    for char in test_string:\n",
    "        used_char[char] = 0\n",
    "        \n",
    "    for char in test_string:\n",
    "        used_char[char] += 1\n",
    "        if used_char[char] > 1:\n",
    "            return False\n",
    "            break #So it seems this function works fine without the break in this line. Why is that?\n",
    "    else:\n",
    "        return True"
   ]
  },
  {
   "cell_type": "markdown",
   "metadata": {
    "collapsed": false,
    "scrolled": true
   },
   "source": [
    "Another way to do it:"
   ]
  },
  {
   "cell_type": "code",
   "execution_count": 76,
   "metadata": {
    "collapsed": false
   },
   "outputs": [],
   "source": [
    "def unique_char2(given_string):\n",
    "    test_string = given_string.lower()    \n",
    "    for char in test_string:\n",
    "        if test_string.count(char) > 1:\n",
    "            return False\n",
    "            break #So it seems this function works fine without the break in this line. Why is that?\n",
    "    else:\n",
    "        return True"
   ]
  },
  {
   "cell_type": "code",
   "execution_count": null,
   "metadata": {
    "collapsed": false
   },
   "outputs": [],
   "source": []
  },
  {
   "cell_type": "code",
   "execution_count": null,
   "metadata": {
    "collapsed": true
   },
   "outputs": [],
   "source": []
  }
 ],
 "metadata": {
  "kernelspec": {
   "display_name": "Python 2",
   "language": "python",
   "name": "python2"
  },
  "language_info": {
   "codemirror_mode": {
    "name": "ipython",
    "version": 2
   },
   "file_extension": ".py",
   "mimetype": "text/x-python",
   "name": "python",
   "nbconvert_exporter": "python",
   "pygments_lexer": "ipython2",
   "version": "2.7.10"
  }
 },
 "nbformat": 4,
 "nbformat_minor": 1
}
