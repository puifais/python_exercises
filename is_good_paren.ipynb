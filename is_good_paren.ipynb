{
 "cells": [
  {
   "cell_type": "markdown",
   "metadata": {},
   "source": [
    "Decide if parentheses are used correctly in the string:\n",
    "\n",
    "- '(a{}asd)' --> True\n",
    "- '(a{ asd)' --> False"
   ]
  },
  {
   "cell_type": "code",
   "execution_count": 6,
   "metadata": {
    "collapsed": false
   },
   "outputs": [],
   "source": [
    "def is_good_paren(given_str):\n",
    "    check_from_back_list = list(given_str)\n",
    "    paren_dict = {'(':')','[':']','{':'}','<':'>'}\n",
    "\n",
    "    for char in given_str:\n",
    "        print('')\n",
    "        print('working on:  ', char)\n",
    "        if char in paren_dict:\n",
    "            while check_from_back_list[-1].isalnum():\n",
    "                print(check_from_back_list.pop() + ' is not a parenthesis')\n",
    "            if check_from_back_list[-1] != paren_dict[char]:\n",
    "                print(check_from_back_list.pop() + ' is a parenthesis and it didnot match')\n",
    "                return False\n",
    "            else:\n",
    "                print(check_from_back_list.pop() + ' is a parenthesis and it matched')\n",
    "    return True"
   ]
  },
  {
   "cell_type": "code",
   "execution_count": 7,
   "metadata": {
    "collapsed": false
   },
   "outputs": [
    {
     "name": "stdout",
     "output_type": "stream",
     "text": [
      "\n",
      "working on:   w\n",
      "\n",
      "working on:   n\n",
      "\n",
      "working on:   i\n",
      "\n",
      "working on:   v\n",
      "\n",
      "working on:   t\n",
      "\n",
      "working on:   e\n",
      "\n",
      "working on:   l\n",
      "\n",
      "working on:   e\n",
      "\n",
      "working on:   b\n",
      "\n",
      "working on:   d\n",
      "\n",
      "working on:   f\n",
      "\n",
      "working on:   y\n"
     ]
    },
    {
     "data": {
      "text/plain": [
       "True"
      ]
     },
     "execution_count": 7,
     "metadata": {},
     "output_type": "execute_result"
    }
   ],
   "source": [
    "test_str = 'wnivtelebdfy'\n",
    "is_good_paren(test_str)"
   ]
  },
  {
   "cell_type": "code",
   "execution_count": 8,
   "metadata": {
    "collapsed": false
   },
   "outputs": [
    {
     "name": "stdout",
     "output_type": "stream",
     "text": [
      "\n",
      "working on:   w\n",
      "\n",
      "working on:   (\n",
      "y is not a parenthesis\n",
      "f is not a parenthesis\n",
      "d is not a parenthesis\n",
      "b is not a parenthesis\n",
      "e is not a parenthesis\n",
      "l is not a parenthesis\n",
      "e is not a parenthesis\n",
      "t is not a parenthesis\n",
      "v is not a parenthesis\n",
      "i is not a parenthesis\n",
      "n is not a parenthesis\n",
      "( is a parenthesis and it didnot match\n"
     ]
    },
    {
     "data": {
      "text/plain": [
       "False"
      ]
     },
     "execution_count": 8,
     "metadata": {},
     "output_type": "execute_result"
    }
   ],
   "source": [
    "test_str = 'w(nivtelebdfy'\n",
    "is_good_paren(test_str)"
   ]
  },
  {
   "cell_type": "code",
   "execution_count": 9,
   "metadata": {
    "collapsed": false
   },
   "outputs": [
    {
     "name": "stdout",
     "output_type": "stream",
     "text": [
      "\n",
      "working on:   (\n",
      ") is a parenthesis and it matched\n",
      "\n",
      "working on:   a\n",
      "\n",
      "working on:   {\n",
      "d is not a parenthesis\n",
      "s is not a parenthesis\n",
      "a is not a parenthesis\n",
      "} is a parenthesis and it matched\n",
      "\n",
      "working on:   }\n",
      "\n",
      "working on:   a\n",
      "\n",
      "working on:   s\n",
      "\n",
      "working on:   d\n",
      "\n",
      "working on:   )\n"
     ]
    },
    {
     "data": {
      "text/plain": [
       "True"
      ]
     },
     "execution_count": 9,
     "metadata": {},
     "output_type": "execute_result"
    }
   ],
   "source": [
    "test_str = '(a{}asd)'\n",
    "is_good_paren(test_str)"
   ]
  },
  {
   "cell_type": "code",
   "execution_count": 10,
   "metadata": {
    "collapsed": false
   },
   "outputs": [
    {
     "name": "stdout",
     "output_type": "stream",
     "text": [
      "\n",
      "working on:   (\n",
      ") is a parenthesis and it matched\n",
      "\n",
      "working on:   a\n",
      "\n",
      "working on:   {\n",
      "d is not a parenthesis\n",
      "s is not a parenthesis\n",
      "a is not a parenthesis\n",
      "  is a parenthesis and it didnot match\n"
     ]
    },
    {
     "data": {
      "text/plain": [
       "False"
      ]
     },
     "execution_count": 10,
     "metadata": {},
     "output_type": "execute_result"
    }
   ],
   "source": [
    "test_str = '(a{ asd)'\n",
    "is_good_paren(test_str)"
   ]
  },
  {
   "cell_type": "code",
   "execution_count": null,
   "metadata": {
    "collapsed": true
   },
   "outputs": [],
   "source": []
  }
 ],
 "metadata": {
  "kernelspec": {
   "display_name": "Python 3",
   "language": "python",
   "name": "python3"
  },
  "language_info": {
   "codemirror_mode": {
    "name": "ipython",
    "version": 3
   },
   "file_extension": ".py",
   "mimetype": "text/x-python",
   "name": "python",
   "nbconvert_exporter": "python",
   "pygments_lexer": "ipython3",
   "version": "3.6.0"
  }
 },
 "nbformat": 4,
 "nbformat_minor": 2
}
