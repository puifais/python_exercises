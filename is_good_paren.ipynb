{
 "cells": [
  {
   "cell_type": "markdown",
   "metadata": {},
   "source": [
    "Decide if parentheses are used correctly in the string:\n",
    "\n",
    "- '(a{}asd)' --> True\n",
    "- '(a{ asd)' --> False"
   ]
  },
  {
   "cell_type": "code",
   "execution_count": 38,
   "metadata": {
    "collapsed": false
   },
   "outputs": [],
   "source": [
    "def is_good_paren(given_str):\n",
    "    check_from_back_list = list(given_str)\n",
    "    paren_dict = {'(':')','[':']','{':'}','<':'>'}\n",
    "\n",
    "    for char in given_str:\n",
    "        print('working on:  ', char)\n",
    "        if char in paren_dict:\n",
    "            while check_from_back_list[-1].isalnum():\n",
    "                print('this program thinks ' + check_from_back_list.pop() + ' is not a parenthesis')\n",
    "            if check_from_back_list[-1] != paren_dict[char]:\n",
    "                print('this program thinks ' + check_from_back_list.pop() + ' is a parenthesis and it didn''t match')\n",
    "                return False\n",
    "    return True"
   ]
  },
  {
   "cell_type": "code",
   "execution_count": 39,
   "metadata": {
    "collapsed": false
   },
   "outputs": [
    {
     "name": "stdout",
     "output_type": "stream",
     "text": [
      "working on:   w\n",
      "working on:   n\n",
      "working on:   i\n",
      "working on:   v\n",
      "working on:   t\n",
      "working on:   e\n",
      "working on:   l\n",
      "working on:   e\n",
      "working on:   b\n",
      "working on:   d\n",
      "working on:   f\n",
      "working on:   y\n"
     ]
    },
    {
     "data": {
      "text/plain": [
       "True"
      ]
     },
     "execution_count": 39,
     "metadata": {},
     "output_type": "execute_result"
    }
   ],
   "source": [
    "test_str = 'wnivtelebdfy'\n",
    "is_good_paren(test_str)"
   ]
  },
  {
   "cell_type": "code",
   "execution_count": 40,
   "metadata": {
    "collapsed": false
   },
   "outputs": [
    {
     "name": "stdout",
     "output_type": "stream",
     "text": [
      "working on:   w\n",
      "working on:   (\n",
      "this program thinks y is not a parenthesis\n",
      "this program thinks f is not a parenthesis\n",
      "this program thinks d is not a parenthesis\n",
      "this program thinks b is not a parenthesis\n",
      "this program thinks e is not a parenthesis\n",
      "this program thinks l is not a parenthesis\n",
      "this program thinks e is not a parenthesis\n",
      "this program thinks t is not a parenthesis\n",
      "this program thinks v is not a parenthesis\n",
      "this program thinks i is not a parenthesis\n",
      "this program thinks n is not a parenthesis\n",
      "this program thinks ( is a parenthesis and it didnt match\n"
     ]
    },
    {
     "data": {
      "text/plain": [
       "False"
      ]
     },
     "execution_count": 40,
     "metadata": {},
     "output_type": "execute_result"
    }
   ],
   "source": [
    "test_str = 'w(nivtelebdfy'\n",
    "is_good_paren(test_str)"
   ]
  },
  {
   "cell_type": "code",
   "execution_count": 41,
   "metadata": {
    "collapsed": false
   },
   "outputs": [
    {
     "name": "stdout",
     "output_type": "stream",
     "text": [
      "working on:   (\n",
      "working on:   a\n",
      "working on:   {\n",
      "this program thinks ) is a parenthesis and it didnt match\n"
     ]
    },
    {
     "data": {
      "text/plain": [
       "False"
      ]
     },
     "execution_count": 41,
     "metadata": {},
     "output_type": "execute_result"
    }
   ],
   "source": [
    "test_str = '(a{}asd)'\n",
    "is_good_paren(test_str)"
   ]
  },
  {
   "cell_type": "code",
   "execution_count": null,
   "metadata": {
    "collapsed": true
   },
   "outputs": [],
   "source": []
  }
 ],
 "metadata": {
  "kernelspec": {
   "display_name": "Python 3",
   "language": "python",
   "name": "python3"
  },
  "language_info": {
   "codemirror_mode": {
    "name": "ipython",
    "version": 3
   },
   "file_extension": ".py",
   "mimetype": "text/x-python",
   "name": "python",
   "nbconvert_exporter": "python",
   "pygments_lexer": "ipython3",
   "version": "3.6.0"
  }
 },
 "nbformat": 4,
 "nbformat_minor": 2
}
