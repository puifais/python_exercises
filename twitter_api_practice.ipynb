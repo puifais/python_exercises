{
 "cells": [
  {
   "cell_type": "code",
   "execution_count": 1,
   "metadata": {
    "collapsed": true
   },
   "outputs": [],
   "source": [
    "# Import the required libraries.\n",
    "import tweepy\n",
    "import pandas as pd\n",
    "import matplotlib.pyplot as plt"
   ]
  },
  {
   "cell_type": "code",
   "execution_count": 2,
   "metadata": {},
   "outputs": [
    {
     "name": "stderr",
     "output_type": "stream",
     "text": [
      "/anaconda/envs/twitter_api_practice/lib/python2.7/site-packages/IPython/core/interactiveshell.py:2881: FutureWarning: \n",
      "mpl_style had been deprecated and will be removed in a future version.\n",
      "Use `matplotlib.pyplot.style.use` instead.\n",
      "\n",
      "  exec(code_obj, self.user_global_ns, self.user_ns)\n"
     ]
    }
   ],
   "source": [
    "# Make the graphs prettier\n",
    "pd.set_option('display.mpl_style', 'default')"
   ]
  },
  {
   "cell_type": "code",
   "execution_count": 3,
   "metadata": {},
   "outputs": [],
   "source": [
    "consumerKey = '9CypdRXPPfgwCf7T1vUJReO0U'\n",
    "consumerSecret = 'Au1UpUTwyCCPA22YCbPT3y6JlLRzlpNYtOxWJTCy1L0JPBjS10'\n",
    "\n",
    "#Use tweepy.OAuthHandler to create an authentication using the given key and secret\n",
    "auth = tweepy.OAuthHandler(consumer_key=consumerKey, \n",
    "consumer_secret=consumerSecret)\n",
    "\n",
    "#Connect to the Twitter API using the authentication\n",
    "api = tweepy.API(auth)"
   ]
  },
  {
   "cell_type": "code",
   "execution_count": 4,
   "metadata": {},
   "outputs": [
    {
     "data": {
      "text/plain": [
       "15"
      ]
     },
     "execution_count": 4,
     "metadata": {},
     "output_type": "execute_result"
    }
   ],
   "source": [
    "#Perform a basic search query where we search for the'#Oscars2015' in the tweets\n",
    "result = api.search(q='#%23NPR') #%23 is used to specify '#'\n",
    "\n",
    "# Print the number of items returned by the search query to verify our query ran. Its 15 by default\n",
    "len(result)"
   ]
  },
  {
   "cell_type": "code",
   "execution_count": 5,
   "metadata": {},
   "outputs": [
    {
     "name": "stdout",
     "output_type": "stream",
     "text": [
      "author : User(follow_request_sent=None, has_extended_profile=False, profile_use_background_image=True, _json={u'follow_request_sent': None, u'has_extended_profile': False, u'profile_use_background_image': True, u'default_profile_image': False, u'id': 17333093, u'profile_background_image_url_https': u'https://pbs.twimg.com/profile_background_images/740618814274965505/LodDFSse.jpg', u'verified': False, u'translator_type': u'none', u'profile_text_color': u'000000', u'profile_image_url_https': u'https://pbs.twimg.com/profile_images/386460932/Marion-1_normal.jpg', u'profile_sidebar_fill_color': u'000000', u'entities': {u'description': {u'urls': []}}, u'followers_count': 965, u'profile_sidebar_border_color': u'000000', u'id_str': u'17333093', u'profile_background_color': u'000000', u'listed_count': 66, u'is_translation_enabled': False, u'utc_offset': -14400, u'statuses_count': 17089, u'description': u'Conservative biker, radio fanatic, medi-writ, film critic, Mensan, patriot, graphanalyst, reader-poet, polit. advocate, chocomaven, activist, journalist', u'friends_count': 899, u'location': u'Global', u'profile_link_color': u'981CEB', u'profile_image_url': u'http://pbs.twimg.com/profile_images/386460932/Marion-1_normal.jpg', u'following': None, u'geo_enabled': True, u'profile_background_image_url': u'http://pbs.twimg.com/profile_background_images/740618814274965505/LodDFSse.jpg', u'screen_name': u'dreyfus_marion', u'lang': u'en', u'profile_background_tile': False, u'favourites_count': 19, u'name': u'dreyfus_marion', u'notifications': None, u'url': None, u'created_at': u'Wed Nov 12 05:48:52 +0000 2008', u'contributors_enabled': False, u'time_zone': u'Eastern Time (US & Canada)', u'protected': False, u'default_profile': False, u'is_translator': False}, time_zone=u'Eastern Time (US & Canada)', id=17333093, description=u'Conservative biker, radio fanatic, medi-writ, film critic, Mensan, patriot, graphanalyst, reader-poet, polit. advocate, chocomaven, activist, journalist', _api=<tweepy.api.API object at 0x115473e10>, verified=False, profile_text_color=u'000000', profile_image_url_https=u'https://pbs.twimg.com/profile_images/386460932/Marion-1_normal.jpg', profile_sidebar_fill_color=u'000000', is_translator=False, geo_enabled=True, entities={u'description': {u'urls': []}}, followers_count=965, protected=False, id_str=u'17333093', default_profile_image=False, listed_count=66, lang=u'en', utc_offset=-14400, statuses_count=17089, profile_background_color=u'000000', friends_count=899, profile_link_color=u'981CEB', profile_image_url=u'http://pbs.twimg.com/profile_images/386460932/Marion-1_normal.jpg', notifications=None, default_profile=False, profile_background_image_url_https=u'https://pbs.twimg.com/profile_background_images/740618814274965505/LodDFSse.jpg', profile_background_image_url=u'http://pbs.twimg.com/profile_background_images/740618814274965505/LodDFSse.jpg', name=u'dreyfus_marion', is_translation_enabled=False, profile_background_tile=False, favourites_count=19, screen_name=u'dreyfus_marion', url=None, created_at=datetime.datetime(2008, 11, 12, 5, 48, 52), contributors_enabled=False, location=u'Global', profile_sidebar_border_color=u'000000', translator_type=u'none', following=False)\n",
      "\n",
      "contributors : None\n",
      "\n",
      "coordinates : None\n",
      "\n",
      "created_at : 2017-05-30 18:44:38\n",
      "\n",
      "destroy : <bound method Status.destroy of Status(contributors=None, truncated=False, text=u'#NPR idiot statemt that \"religion,not islam,is resp.4terism,\" needs medical intervention.Islaam cult,not real faiths,perpetrates hate-kills.', is_quote_status=False, in_reply_to_status_id=None, id=869625618606039041, favorite_count=0, _api=<tweepy.api.API object at 0x115473e10>, author=User(follow_request_sent=None, has_extended_profile=False, profile_use_background_image=True, _json={u'follow_request_sent': None, u'has_extended_profile': False, u'profile_use_background_image': True, u'default_profile_image': False, u'id': 17333093, u'profile_background_image_url_https': u'https://pbs.twimg.com/profile_background_images/740618814274965505/LodDFSse.jpg', u'verified': False, u'translator_type': u'none', u'profile_text_color': u'000000', u'profile_image_url_https': u'https://pbs.twimg.com/profile_images/386460932/Marion-1_normal.jpg', u'profile_sidebar_fill_color': u'000000', u'entities': {u'description': {u'urls': []}}, u'followers_count': 965, u'profile_sidebar_border_color': u'000000', u'id_str': u'17333093', u'profile_background_color': u'000000', u'listed_count': 66, u'is_translation_enabled': False, u'utc_offset': -14400, u'statuses_count': 17089, u'description': u'Conservative biker, radio fanatic, medi-writ, film critic, Mensan, patriot, graphanalyst, reader-poet, polit. advocate, chocomaven, activist, journalist', u'friends_count': 899, u'location': u'Global', u'profile_link_color': u'981CEB', u'profile_image_url': u'http://pbs.twimg.com/profile_images/386460932/Marion-1_normal.jpg', u'following': None, u'geo_enabled': True, u'profile_background_image_url': u'http://pbs.twimg.com/profile_background_images/740618814274965505/LodDFSse.jpg', u'screen_name': u'dreyfus_marion', u'lang': u'en', u'profile_background_tile': False, u'favourites_count': 19, u'name': u'dreyfus_marion', u'notifications': None, u'url': None, u'created_at': u'Wed Nov 12 05:48:52 +0000 2008', u'contributors_enabled': False, u'time_zone': u'Eastern Time (US & Canada)', u'protected': False, u'default_profile': False, u'is_translator': False}, time_zone=u'Eastern Time (US & Canada)', id=17333093, description=u'Conservative biker, radio fanatic, medi-writ, film critic, Mensan, patriot, graphanalyst, reader-poet, polit. advocate, chocomaven, activist, journalist', _api=<tweepy.api.API object at 0x115473e10>, verified=False, profile_text_color=u'000000', profile_image_url_https=u'https://pbs.twimg.com/profile_images/386460932/Marion-1_normal.jpg', profile_sidebar_fill_color=u'000000', is_translator=False, geo_enabled=True, entities={u'description': {u'urls': []}}, followers_count=965, protected=False, id_str=u'17333093', default_profile_image=False, listed_count=66, lang=u'en', utc_offset=-14400, statuses_count=17089, profile_background_color=u'000000', friends_count=899, profile_link_color=u'981CEB', profile_image_url=u'http://pbs.twimg.com/profile_images/386460932/Marion-1_normal.jpg', notifications=None, default_profile=False, profile_background_image_url_https=u'https://pbs.twimg.com/profile_background_images/740618814274965505/LodDFSse.jpg', profile_background_image_url=u'http://pbs.twimg.com/profile_background_images/740618814274965505/LodDFSse.jpg', name=u'dreyfus_marion', is_translation_enabled=False, profile_background_tile=False, favourites_count=19, screen_name=u'dreyfus_marion', url=None, created_at=datetime.datetime(2008, 11, 12, 5, 48, 52), contributors_enabled=False, location=u'Global', profile_sidebar_border_color=u'000000', translator_type=u'none', following=False), _json={u'contributors': None, u'truncated': False, u'text': u'#NPR idiot statemt that \"religion,not islam,is resp.4terism,\" needs medical intervention.Islaam cult,not real faiths,perpetrates hate-kills.', u'is_quote_status': False, u'in_reply_to_status_id': None, u'id': 869625618606039041, u'favorite_count': 0, u'entities': {u'symbols': [], u'user_mentions': [], u'hashtags': [{u'indices': [0, 4], u'text': u'NPR'}], u'urls': []}, u'retweeted': False, u'coordinates': None, u'source': u'<a href=\"http://twitter.com\" rel=\"nofollow\">Twitter Web Client</a>', u'in_reply_to_screen_name': None, u'in_reply_to_user_id': None, u'retweet_count': 0, u'id_str': u'869625618606039041', u'favorited': False, u'user': {u'follow_request_sent': None, u'has_extended_profile': False, u'profile_use_background_image': True, u'default_profile_image': False, u'id': 17333093, u'profile_background_image_url_https': u'https://pbs.twimg.com/profile_background_images/740618814274965505/LodDFSse.jpg', u'verified': False, u'translator_type': u'none', u'profile_text_color': u'000000', u'profile_image_url_https': u'https://pbs.twimg.com/profile_images/386460932/Marion-1_normal.jpg', u'profile_sidebar_fill_color': u'000000', u'entities': {u'description': {u'urls': []}}, u'followers_count': 965, u'profile_sidebar_border_color': u'000000', u'id_str': u'17333093', u'profile_background_color': u'000000', u'listed_count': 66, u'is_translation_enabled': False, u'utc_offset': -14400, u'statuses_count': 17089, u'description': u'Conservative biker, radio fanatic, medi-writ, film critic, Mensan, patriot, graphanalyst, reader-poet, polit. advocate, chocomaven, activist, journalist', u'friends_count': 899, u'location': u'Global', u'profile_link_color': u'981CEB', u'profile_image_url': u'http://pbs.twimg.com/profile_images/386460932/Marion-1_normal.jpg', u'following': None, u'geo_enabled': True, u'profile_background_image_url': u'http://pbs.twimg.com/profile_background_images/740618814274965505/LodDFSse.jpg', u'screen_name': u'dreyfus_marion', u'lang': u'en', u'profile_background_tile': False, u'favourites_count': 19, u'name': u'dreyfus_marion', u'notifications': None, u'url': None, u'created_at': u'Wed Nov 12 05:48:52 +0000 2008', u'contributors_enabled': False, u'time_zone': u'Eastern Time (US & Canada)', u'protected': False, u'default_profile': False, u'is_translator': False}, u'geo': None, u'in_reply_to_user_id_str': None, u'lang': u'en', u'created_at': u'Tue May 30 18:44:38 +0000 2017', u'in_reply_to_status_id_str': None, u'place': None, u'metadata': {u'iso_language_code': u'en', u'result_type': u'recent'}}, coordinates=None, entities={u'symbols': [], u'user_mentions': [], u'hashtags': [{u'indices': [0, 4], u'text': u'NPR'}], u'urls': []}, in_reply_to_screen_name=None, id_str=u'869625618606039041', retweet_count=0, in_reply_to_user_id=None, favorited=False, source_url=u'http://twitter.com', user=User(follow_request_sent=None, has_extended_profile=False, profile_use_background_image=True, _json={u'follow_request_sent': None, u'has_extended_profile': False, u'profile_use_background_image': True, u'default_profile_image': False, u'id': 17333093, u'profile_background_image_url_https': u'https://pbs.twimg.com/profile_background_images/740618814274965505/LodDFSse.jpg', u'verified': False, u'translator_type': u'none', u'profile_text_color': u'000000', u'profile_image_url_https': u'https://pbs.twimg.com/profile_images/386460932/Marion-1_normal.jpg', u'profile_sidebar_fill_color': u'000000', u'entities': {u'description': {u'urls': []}}, u'followers_count': 965, u'profile_sidebar_border_color': u'000000', u'id_str': u'17333093', u'profile_background_color': u'000000', u'listed_count': 66, u'is_translation_enabled': False, u'utc_offset': -14400, u'statuses_count': 17089, u'description': u'Conservative biker, radio fanatic, medi-writ, film critic, Mensan, patriot, graphanalyst, reader-poet, polit. advocate, chocomaven, activist, journalist', u'friends_count': 899, u'location': u'Global', u'profile_link_color': u'981CEB', u'profile_image_url': u'http://pbs.twimg.com/profile_images/386460932/Marion-1_normal.jpg', u'following': None, u'geo_enabled': True, u'profile_background_image_url': u'http://pbs.twimg.com/profile_background_images/740618814274965505/LodDFSse.jpg', u'screen_name': u'dreyfus_marion', u'lang': u'en', u'profile_background_tile': False, u'favourites_count': 19, u'name': u'dreyfus_marion', u'notifications': None, u'url': None, u'created_at': u'Wed Nov 12 05:48:52 +0000 2008', u'contributors_enabled': False, u'time_zone': u'Eastern Time (US & Canada)', u'protected': False, u'default_profile': False, u'is_translator': False}, time_zone=u'Eastern Time (US & Canada)', id=17333093, description=u'Conservative biker, radio fanatic, medi-writ, film critic, Mensan, patriot, graphanalyst, reader-poet, polit. advocate, chocomaven, activist, journalist', _api=<tweepy.api.API object at 0x115473e10>, verified=False, profile_text_color=u'000000', profile_image_url_https=u'https://pbs.twimg.com/profile_images/386460932/Marion-1_normal.jpg', profile_sidebar_fill_color=u'000000', is_translator=False, geo_enabled=True, entities={u'description': {u'urls': []}}, followers_count=965, protected=False, id_str=u'17333093', default_profile_image=False, listed_count=66, lang=u'en', utc_offset=-14400, statuses_count=17089, profile_background_color=u'000000', friends_count=899, profile_link_color=u'981CEB', profile_image_url=u'http://pbs.twimg.com/profile_images/386460932/Marion-1_normal.jpg', notifications=None, default_profile=False, profile_background_image_url_https=u'https://pbs.twimg.com/profile_background_images/740618814274965505/LodDFSse.jpg', profile_background_image_url=u'http://pbs.twimg.com/profile_background_images/740618814274965505/LodDFSse.jpg', name=u'dreyfus_marion', is_translation_enabled=False, profile_background_tile=False, favourites_count=19, screen_name=u'dreyfus_marion', url=None, created_at=datetime.datetime(2008, 11, 12, 5, 48, 52), contributors_enabled=False, location=u'Global', profile_sidebar_border_color=u'000000', translator_type=u'none', following=False), geo=None, in_reply_to_user_id_str=None, lang=u'en', created_at=datetime.datetime(2017, 5, 30, 18, 44, 38), in_reply_to_status_id_str=None, place=None, source=u'Twitter Web Client', retweeted=False, metadata={u'iso_language_code': u'en', u'result_type': u'recent'})>\n",
      "\n",
      "entities : {u'symbols': [], u'user_mentions': [], u'hashtags': [{u'indices': [0, 4], u'text': u'NPR'}], u'urls': []}\n",
      "\n",
      "favorite : <bound method Status.favorite of Status(contributors=None, truncated=False, text=u'#NPR idiot statemt that \"religion,not islam,is resp.4terism,\" needs medical intervention.Islaam cult,not real faiths,perpetrates hate-kills.', is_quote_status=False, in_reply_to_status_id=None, id=869625618606039041, favorite_count=0, _api=<tweepy.api.API object at 0x115473e10>, author=User(follow_request_sent=None, has_extended_profile=False, profile_use_background_image=True, _json={u'follow_request_sent': None, u'has_extended_profile': False, u'profile_use_background_image': True, u'default_profile_image': False, u'id': 17333093, u'profile_background_image_url_https': u'https://pbs.twimg.com/profile_background_images/740618814274965505/LodDFSse.jpg', u'verified': False, u'translator_type': u'none', u'profile_text_color': u'000000', u'profile_image_url_https': u'https://pbs.twimg.com/profile_images/386460932/Marion-1_normal.jpg', u'profile_sidebar_fill_color': u'000000', u'entities': {u'description': {u'urls': []}}, u'followers_count': 965, u'profile_sidebar_border_color': u'000000', u'id_str': u'17333093', u'profile_background_color': u'000000', u'listed_count': 66, u'is_translation_enabled': False, u'utc_offset': -14400, u'statuses_count': 17089, u'description': u'Conservative biker, radio fanatic, medi-writ, film critic, Mensan, patriot, graphanalyst, reader-poet, polit. advocate, chocomaven, activist, journalist', u'friends_count': 899, u'location': u'Global', u'profile_link_color': u'981CEB', u'profile_image_url': u'http://pbs.twimg.com/profile_images/386460932/Marion-1_normal.jpg', u'following': None, u'geo_enabled': True, u'profile_background_image_url': u'http://pbs.twimg.com/profile_background_images/740618814274965505/LodDFSse.jpg', u'screen_name': u'dreyfus_marion', u'lang': u'en', u'profile_background_tile': False, u'favourites_count': 19, u'name': u'dreyfus_marion', u'notifications': None, u'url': None, u'created_at': u'Wed Nov 12 05:48:52 +0000 2008', u'contributors_enabled': False, u'time_zone': u'Eastern Time (US & Canada)', u'protected': False, u'default_profile': False, u'is_translator': False}, time_zone=u'Eastern Time (US & Canada)', id=17333093, description=u'Conservative biker, radio fanatic, medi-writ, film critic, Mensan, patriot, graphanalyst, reader-poet, polit. advocate, chocomaven, activist, journalist', _api=<tweepy.api.API object at 0x115473e10>, verified=False, profile_text_color=u'000000', profile_image_url_https=u'https://pbs.twimg.com/profile_images/386460932/Marion-1_normal.jpg', profile_sidebar_fill_color=u'000000', is_translator=False, geo_enabled=True, entities={u'description': {u'urls': []}}, followers_count=965, protected=False, id_str=u'17333093', default_profile_image=False, listed_count=66, lang=u'en', utc_offset=-14400, statuses_count=17089, profile_background_color=u'000000', friends_count=899, profile_link_color=u'981CEB', profile_image_url=u'http://pbs.twimg.com/profile_images/386460932/Marion-1_normal.jpg', notifications=None, default_profile=False, profile_background_image_url_https=u'https://pbs.twimg.com/profile_background_images/740618814274965505/LodDFSse.jpg', profile_background_image_url=u'http://pbs.twimg.com/profile_background_images/740618814274965505/LodDFSse.jpg', name=u'dreyfus_marion', is_translation_enabled=False, profile_background_tile=False, favourites_count=19, screen_name=u'dreyfus_marion', url=None, created_at=datetime.datetime(2008, 11, 12, 5, 48, 52), contributors_enabled=False, location=u'Global', profile_sidebar_border_color=u'000000', translator_type=u'none', following=False), _json={u'contributors': None, u'truncated': False, u'text': u'#NPR idiot statemt that \"religion,not islam,is resp.4terism,\" needs medical intervention.Islaam cult,not real faiths,perpetrates hate-kills.', u'is_quote_status': False, u'in_reply_to_status_id': None, u'id': 869625618606039041, u'favorite_count': 0, u'entities': {u'symbols': [], u'user_mentions': [], u'hashtags': [{u'indices': [0, 4], u'text': u'NPR'}], u'urls': []}, u'retweeted': False, u'coordinates': None, u'source': u'<a href=\"http://twitter.com\" rel=\"nofollow\">Twitter Web Client</a>', u'in_reply_to_screen_name': None, u'in_reply_to_user_id': None, u'retweet_count': 0, u'id_str': u'869625618606039041', u'favorited': False, u'user': {u'follow_request_sent': None, u'has_extended_profile': False, u'profile_use_background_image': True, u'default_profile_image': False, u'id': 17333093, u'profile_background_image_url_https': u'https://pbs.twimg.com/profile_background_images/740618814274965505/LodDFSse.jpg', u'verified': False, u'translator_type': u'none', u'profile_text_color': u'000000', u'profile_image_url_https': u'https://pbs.twimg.com/profile_images/386460932/Marion-1_normal.jpg', u'profile_sidebar_fill_color': u'000000', u'entities': {u'description': {u'urls': []}}, u'followers_count': 965, u'profile_sidebar_border_color': u'000000', u'id_str': u'17333093', u'profile_background_color': u'000000', u'listed_count': 66, u'is_translation_enabled': False, u'utc_offset': -14400, u'statuses_count': 17089, u'description': u'Conservative biker, radio fanatic, medi-writ, film critic, Mensan, patriot, graphanalyst, reader-poet, polit. advocate, chocomaven, activist, journalist', u'friends_count': 899, u'location': u'Global', u'profile_link_color': u'981CEB', u'profile_image_url': u'http://pbs.twimg.com/profile_images/386460932/Marion-1_normal.jpg', u'following': None, u'geo_enabled': True, u'profile_background_image_url': u'http://pbs.twimg.com/profile_background_images/740618814274965505/LodDFSse.jpg', u'screen_name': u'dreyfus_marion', u'lang': u'en', u'profile_background_tile': False, u'favourites_count': 19, u'name': u'dreyfus_marion', u'notifications': None, u'url': None, u'created_at': u'Wed Nov 12 05:48:52 +0000 2008', u'contributors_enabled': False, u'time_zone': u'Eastern Time (US & Canada)', u'protected': False, u'default_profile': False, u'is_translator': False}, u'geo': None, u'in_reply_to_user_id_str': None, u'lang': u'en', u'created_at': u'Tue May 30 18:44:38 +0000 2017', u'in_reply_to_status_id_str': None, u'place': None, u'metadata': {u'iso_language_code': u'en', u'result_type': u'recent'}}, coordinates=None, entities={u'symbols': [], u'user_mentions': [], u'hashtags': [{u'indices': [0, 4], u'text': u'NPR'}], u'urls': []}, in_reply_to_screen_name=None, id_str=u'869625618606039041', retweet_count=0, in_reply_to_user_id=None, favorited=False, source_url=u'http://twitter.com', user=User(follow_request_sent=None, has_extended_profile=False, profile_use_background_image=True, _json={u'follow_request_sent': None, u'has_extended_profile': False, u'profile_use_background_image': True, u'default_profile_image': False, u'id': 17333093, u'profile_background_image_url_https': u'https://pbs.twimg.com/profile_background_images/740618814274965505/LodDFSse.jpg', u'verified': False, u'translator_type': u'none', u'profile_text_color': u'000000', u'profile_image_url_https': u'https://pbs.twimg.com/profile_images/386460932/Marion-1_normal.jpg', u'profile_sidebar_fill_color': u'000000', u'entities': {u'description': {u'urls': []}}, u'followers_count': 965, u'profile_sidebar_border_color': u'000000', u'id_str': u'17333093', u'profile_background_color': u'000000', u'listed_count': 66, u'is_translation_enabled': False, u'utc_offset': -14400, u'statuses_count': 17089, u'description': u'Conservative biker, radio fanatic, medi-writ, film critic, Mensan, patriot, graphanalyst, reader-poet, polit. advocate, chocomaven, activist, journalist', u'friends_count': 899, u'location': u'Global', u'profile_link_color': u'981CEB', u'profile_image_url': u'http://pbs.twimg.com/profile_images/386460932/Marion-1_normal.jpg', u'following': None, u'geo_enabled': True, u'profile_background_image_url': u'http://pbs.twimg.com/profile_background_images/740618814274965505/LodDFSse.jpg', u'screen_name': u'dreyfus_marion', u'lang': u'en', u'profile_background_tile': False, u'favourites_count': 19, u'name': u'dreyfus_marion', u'notifications': None, u'url': None, u'created_at': u'Wed Nov 12 05:48:52 +0000 2008', u'contributors_enabled': False, u'time_zone': u'Eastern Time (US & Canada)', u'protected': False, u'default_profile': False, u'is_translator': False}, time_zone=u'Eastern Time (US & Canada)', id=17333093, description=u'Conservative biker, radio fanatic, medi-writ, film critic, Mensan, patriot, graphanalyst, reader-poet, polit. advocate, chocomaven, activist, journalist', _api=<tweepy.api.API object at 0x115473e10>, verified=False, profile_text_color=u'000000', profile_image_url_https=u'https://pbs.twimg.com/profile_images/386460932/Marion-1_normal.jpg', profile_sidebar_fill_color=u'000000', is_translator=False, geo_enabled=True, entities={u'description': {u'urls': []}}, followers_count=965, protected=False, id_str=u'17333093', default_profile_image=False, listed_count=66, lang=u'en', utc_offset=-14400, statuses_count=17089, profile_background_color=u'000000', friends_count=899, profile_link_color=u'981CEB', profile_image_url=u'http://pbs.twimg.com/profile_images/386460932/Marion-1_normal.jpg', notifications=None, default_profile=False, profile_background_image_url_https=u'https://pbs.twimg.com/profile_background_images/740618814274965505/LodDFSse.jpg', profile_background_image_url=u'http://pbs.twimg.com/profile_background_images/740618814274965505/LodDFSse.jpg', name=u'dreyfus_marion', is_translation_enabled=False, profile_background_tile=False, favourites_count=19, screen_name=u'dreyfus_marion', url=None, created_at=datetime.datetime(2008, 11, 12, 5, 48, 52), contributors_enabled=False, location=u'Global', profile_sidebar_border_color=u'000000', translator_type=u'none', following=False), geo=None, in_reply_to_user_id_str=None, lang=u'en', created_at=datetime.datetime(2017, 5, 30, 18, 44, 38), in_reply_to_status_id_str=None, place=None, source=u'Twitter Web Client', retweeted=False, metadata={u'iso_language_code': u'en', u'result_type': u'recent'})>\n",
      "\n",
      "favorite_count : 0\n",
      "\n",
      "favorited : False\n",
      "\n",
      "geo : None\n",
      "\n",
      "id : 869625618606039041\n",
      "\n",
      "id_str : 869625618606039041\n",
      "\n",
      "in_reply_to_screen_name : None\n",
      "\n",
      "in_reply_to_status_id : None\n",
      "\n",
      "in_reply_to_status_id_str : None\n",
      "\n",
      "in_reply_to_user_id : None\n",
      "\n",
      "in_reply_to_user_id_str : None\n",
      "\n",
      "is_quote_status : False\n",
      "\n",
      "lang : en\n",
      "\n",
      "metadata : {u'iso_language_code': u'en', u'result_type': u'recent'}\n",
      "\n",
      "parse : <bound method type.parse of <class 'tweepy.models.Status'>>\n",
      "\n",
      "parse_list : <bound method type.parse_list of <class 'tweepy.models.Status'>>\n",
      "\n",
      "place : None\n",
      "\n",
      "retweet : <bound method Status.retweet of Status(contributors=None, truncated=False, text=u'#NPR idiot statemt that \"religion,not islam,is resp.4terism,\" needs medical intervention.Islaam cult,not real faiths,perpetrates hate-kills.', is_quote_status=False, in_reply_to_status_id=None, id=869625618606039041, favorite_count=0, _api=<tweepy.api.API object at 0x115473e10>, author=User(follow_request_sent=None, has_extended_profile=False, profile_use_background_image=True, _json={u'follow_request_sent': None, u'has_extended_profile': False, u'profile_use_background_image': True, u'default_profile_image': False, u'id': 17333093, u'profile_background_image_url_https': u'https://pbs.twimg.com/profile_background_images/740618814274965505/LodDFSse.jpg', u'verified': False, u'translator_type': u'none', u'profile_text_color': u'000000', u'profile_image_url_https': u'https://pbs.twimg.com/profile_images/386460932/Marion-1_normal.jpg', u'profile_sidebar_fill_color': u'000000', u'entities': {u'description': {u'urls': []}}, u'followers_count': 965, u'profile_sidebar_border_color': u'000000', u'id_str': u'17333093', u'profile_background_color': u'000000', u'listed_count': 66, u'is_translation_enabled': False, u'utc_offset': -14400, u'statuses_count': 17089, u'description': u'Conservative biker, radio fanatic, medi-writ, film critic, Mensan, patriot, graphanalyst, reader-poet, polit. advocate, chocomaven, activist, journalist', u'friends_count': 899, u'location': u'Global', u'profile_link_color': u'981CEB', u'profile_image_url': u'http://pbs.twimg.com/profile_images/386460932/Marion-1_normal.jpg', u'following': None, u'geo_enabled': True, u'profile_background_image_url': u'http://pbs.twimg.com/profile_background_images/740618814274965505/LodDFSse.jpg', u'screen_name': u'dreyfus_marion', u'lang': u'en', u'profile_background_tile': False, u'favourites_count': 19, u'name': u'dreyfus_marion', u'notifications': None, u'url': None, u'created_at': u'Wed Nov 12 05:48:52 +0000 2008', u'contributors_enabled': False, u'time_zone': u'Eastern Time (US & Canada)', u'protected': False, u'default_profile': False, u'is_translator': False}, time_zone=u'Eastern Time (US & Canada)', id=17333093, description=u'Conservative biker, radio fanatic, medi-writ, film critic, Mensan, patriot, graphanalyst, reader-poet, polit. advocate, chocomaven, activist, journalist', _api=<tweepy.api.API object at 0x115473e10>, verified=False, profile_text_color=u'000000', profile_image_url_https=u'https://pbs.twimg.com/profile_images/386460932/Marion-1_normal.jpg', profile_sidebar_fill_color=u'000000', is_translator=False, geo_enabled=True, entities={u'description': {u'urls': []}}, followers_count=965, protected=False, id_str=u'17333093', default_profile_image=False, listed_count=66, lang=u'en', utc_offset=-14400, statuses_count=17089, profile_background_color=u'000000', friends_count=899, profile_link_color=u'981CEB', profile_image_url=u'http://pbs.twimg.com/profile_images/386460932/Marion-1_normal.jpg', notifications=None, default_profile=False, profile_background_image_url_https=u'https://pbs.twimg.com/profile_background_images/740618814274965505/LodDFSse.jpg', profile_background_image_url=u'http://pbs.twimg.com/profile_background_images/740618814274965505/LodDFSse.jpg', name=u'dreyfus_marion', is_translation_enabled=False, profile_background_tile=False, favourites_count=19, screen_name=u'dreyfus_marion', url=None, created_at=datetime.datetime(2008, 11, 12, 5, 48, 52), contributors_enabled=False, location=u'Global', profile_sidebar_border_color=u'000000', translator_type=u'none', following=False), _json={u'contributors': None, u'truncated': False, u'text': u'#NPR idiot statemt that \"religion,not islam,is resp.4terism,\" needs medical intervention.Islaam cult,not real faiths,perpetrates hate-kills.', u'is_quote_status': False, u'in_reply_to_status_id': None, u'id': 869625618606039041, u'favorite_count': 0, u'entities': {u'symbols': [], u'user_mentions': [], u'hashtags': [{u'indices': [0, 4], u'text': u'NPR'}], u'urls': []}, u'retweeted': False, u'coordinates': None, u'source': u'<a href=\"http://twitter.com\" rel=\"nofollow\">Twitter Web Client</a>', u'in_reply_to_screen_name': None, u'in_reply_to_user_id': None, u'retweet_count': 0, u'id_str': u'869625618606039041', u'favorited': False, u'user': {u'follow_request_sent': None, u'has_extended_profile': False, u'profile_use_background_image': True, u'default_profile_image': False, u'id': 17333093, u'profile_background_image_url_https': u'https://pbs.twimg.com/profile_background_images/740618814274965505/LodDFSse.jpg', u'verified': False, u'translator_type': u'none', u'profile_text_color': u'000000', u'profile_image_url_https': u'https://pbs.twimg.com/profile_images/386460932/Marion-1_normal.jpg', u'profile_sidebar_fill_color': u'000000', u'entities': {u'description': {u'urls': []}}, u'followers_count': 965, u'profile_sidebar_border_color': u'000000', u'id_str': u'17333093', u'profile_background_color': u'000000', u'listed_count': 66, u'is_translation_enabled': False, u'utc_offset': -14400, u'statuses_count': 17089, u'description': u'Conservative biker, radio fanatic, medi-writ, film critic, Mensan, patriot, graphanalyst, reader-poet, polit. advocate, chocomaven, activist, journalist', u'friends_count': 899, u'location': u'Global', u'profile_link_color': u'981CEB', u'profile_image_url': u'http://pbs.twimg.com/profile_images/386460932/Marion-1_normal.jpg', u'following': None, u'geo_enabled': True, u'profile_background_image_url': u'http://pbs.twimg.com/profile_background_images/740618814274965505/LodDFSse.jpg', u'screen_name': u'dreyfus_marion', u'lang': u'en', u'profile_background_tile': False, u'favourites_count': 19, u'name': u'dreyfus_marion', u'notifications': None, u'url': None, u'created_at': u'Wed Nov 12 05:48:52 +0000 2008', u'contributors_enabled': False, u'time_zone': u'Eastern Time (US & Canada)', u'protected': False, u'default_profile': False, u'is_translator': False}, u'geo': None, u'in_reply_to_user_id_str': None, u'lang': u'en', u'created_at': u'Tue May 30 18:44:38 +0000 2017', u'in_reply_to_status_id_str': None, u'place': None, u'metadata': {u'iso_language_code': u'en', u'result_type': u'recent'}}, coordinates=None, entities={u'symbols': [], u'user_mentions': [], u'hashtags': [{u'indices': [0, 4], u'text': u'NPR'}], u'urls': []}, in_reply_to_screen_name=None, id_str=u'869625618606039041', retweet_count=0, in_reply_to_user_id=None, favorited=False, source_url=u'http://twitter.com', user=User(follow_request_sent=None, has_extended_profile=False, profile_use_background_image=True, _json={u'follow_request_sent': None, u'has_extended_profile': False, u'profile_use_background_image': True, u'default_profile_image': False, u'id': 17333093, u'profile_background_image_url_https': u'https://pbs.twimg.com/profile_background_images/740618814274965505/LodDFSse.jpg', u'verified': False, u'translator_type': u'none', u'profile_text_color': u'000000', u'profile_image_url_https': u'https://pbs.twimg.com/profile_images/386460932/Marion-1_normal.jpg', u'profile_sidebar_fill_color': u'000000', u'entities': {u'description': {u'urls': []}}, u'followers_count': 965, u'profile_sidebar_border_color': u'000000', u'id_str': u'17333093', u'profile_background_color': u'000000', u'listed_count': 66, u'is_translation_enabled': False, u'utc_offset': -14400, u'statuses_count': 17089, u'description': u'Conservative biker, radio fanatic, medi-writ, film critic, Mensan, patriot, graphanalyst, reader-poet, polit. advocate, chocomaven, activist, journalist', u'friends_count': 899, u'location': u'Global', u'profile_link_color': u'981CEB', u'profile_image_url': u'http://pbs.twimg.com/profile_images/386460932/Marion-1_normal.jpg', u'following': None, u'geo_enabled': True, u'profile_background_image_url': u'http://pbs.twimg.com/profile_background_images/740618814274965505/LodDFSse.jpg', u'screen_name': u'dreyfus_marion', u'lang': u'en', u'profile_background_tile': False, u'favourites_count': 19, u'name': u'dreyfus_marion', u'notifications': None, u'url': None, u'created_at': u'Wed Nov 12 05:48:52 +0000 2008', u'contributors_enabled': False, u'time_zone': u'Eastern Time (US & Canada)', u'protected': False, u'default_profile': False, u'is_translator': False}, time_zone=u'Eastern Time (US & Canada)', id=17333093, description=u'Conservative biker, radio fanatic, medi-writ, film critic, Mensan, patriot, graphanalyst, reader-poet, polit. advocate, chocomaven, activist, journalist', _api=<tweepy.api.API object at 0x115473e10>, verified=False, profile_text_color=u'000000', profile_image_url_https=u'https://pbs.twimg.com/profile_images/386460932/Marion-1_normal.jpg', profile_sidebar_fill_color=u'000000', is_translator=False, geo_enabled=True, entities={u'description': {u'urls': []}}, followers_count=965, protected=False, id_str=u'17333093', default_profile_image=False, listed_count=66, lang=u'en', utc_offset=-14400, statuses_count=17089, profile_background_color=u'000000', friends_count=899, profile_link_color=u'981CEB', profile_image_url=u'http://pbs.twimg.com/profile_images/386460932/Marion-1_normal.jpg', notifications=None, default_profile=False, profile_background_image_url_https=u'https://pbs.twimg.com/profile_background_images/740618814274965505/LodDFSse.jpg', profile_background_image_url=u'http://pbs.twimg.com/profile_background_images/740618814274965505/LodDFSse.jpg', name=u'dreyfus_marion', is_translation_enabled=False, profile_background_tile=False, favourites_count=19, screen_name=u'dreyfus_marion', url=None, created_at=datetime.datetime(2008, 11, 12, 5, 48, 52), contributors_enabled=False, location=u'Global', profile_sidebar_border_color=u'000000', translator_type=u'none', following=False), geo=None, in_reply_to_user_id_str=None, lang=u'en', created_at=datetime.datetime(2017, 5, 30, 18, 44, 38), in_reply_to_status_id_str=None, place=None, source=u'Twitter Web Client', retweeted=False, metadata={u'iso_language_code': u'en', u'result_type': u'recent'})>\n",
      "\n",
      "retweet_count : 0\n",
      "\n",
      "retweeted : False\n",
      "\n",
      "retweets : <bound method Status.retweets of Status(contributors=None, truncated=False, text=u'#NPR idiot statemt that \"religion,not islam,is resp.4terism,\" needs medical intervention.Islaam cult,not real faiths,perpetrates hate-kills.', is_quote_status=False, in_reply_to_status_id=None, id=869625618606039041, favorite_count=0, _api=<tweepy.api.API object at 0x115473e10>, author=User(follow_request_sent=None, has_extended_profile=False, profile_use_background_image=True, _json={u'follow_request_sent': None, u'has_extended_profile': False, u'profile_use_background_image': True, u'default_profile_image': False, u'id': 17333093, u'profile_background_image_url_https': u'https://pbs.twimg.com/profile_background_images/740618814274965505/LodDFSse.jpg', u'verified': False, u'translator_type': u'none', u'profile_text_color': u'000000', u'profile_image_url_https': u'https://pbs.twimg.com/profile_images/386460932/Marion-1_normal.jpg', u'profile_sidebar_fill_color': u'000000', u'entities': {u'description': {u'urls': []}}, u'followers_count': 965, u'profile_sidebar_border_color': u'000000', u'id_str': u'17333093', u'profile_background_color': u'000000', u'listed_count': 66, u'is_translation_enabled': False, u'utc_offset': -14400, u'statuses_count': 17089, u'description': u'Conservative biker, radio fanatic, medi-writ, film critic, Mensan, patriot, graphanalyst, reader-poet, polit. advocate, chocomaven, activist, journalist', u'friends_count': 899, u'location': u'Global', u'profile_link_color': u'981CEB', u'profile_image_url': u'http://pbs.twimg.com/profile_images/386460932/Marion-1_normal.jpg', u'following': None, u'geo_enabled': True, u'profile_background_image_url': u'http://pbs.twimg.com/profile_background_images/740618814274965505/LodDFSse.jpg', u'screen_name': u'dreyfus_marion', u'lang': u'en', u'profile_background_tile': False, u'favourites_count': 19, u'name': u'dreyfus_marion', u'notifications': None, u'url': None, u'created_at': u'Wed Nov 12 05:48:52 +0000 2008', u'contributors_enabled': False, u'time_zone': u'Eastern Time (US & Canada)', u'protected': False, u'default_profile': False, u'is_translator': False}, time_zone=u'Eastern Time (US & Canada)', id=17333093, description=u'Conservative biker, radio fanatic, medi-writ, film critic, Mensan, patriot, graphanalyst, reader-poet, polit. advocate, chocomaven, activist, journalist', _api=<tweepy.api.API object at 0x115473e10>, verified=False, profile_text_color=u'000000', profile_image_url_https=u'https://pbs.twimg.com/profile_images/386460932/Marion-1_normal.jpg', profile_sidebar_fill_color=u'000000', is_translator=False, geo_enabled=True, entities={u'description': {u'urls': []}}, followers_count=965, protected=False, id_str=u'17333093', default_profile_image=False, listed_count=66, lang=u'en', utc_offset=-14400, statuses_count=17089, profile_background_color=u'000000', friends_count=899, profile_link_color=u'981CEB', profile_image_url=u'http://pbs.twimg.com/profile_images/386460932/Marion-1_normal.jpg', notifications=None, default_profile=False, profile_background_image_url_https=u'https://pbs.twimg.com/profile_background_images/740618814274965505/LodDFSse.jpg', profile_background_image_url=u'http://pbs.twimg.com/profile_background_images/740618814274965505/LodDFSse.jpg', name=u'dreyfus_marion', is_translation_enabled=False, profile_background_tile=False, favourites_count=19, screen_name=u'dreyfus_marion', url=None, created_at=datetime.datetime(2008, 11, 12, 5, 48, 52), contributors_enabled=False, location=u'Global', profile_sidebar_border_color=u'000000', translator_type=u'none', following=False), _json={u'contributors': None, u'truncated': False, u'text': u'#NPR idiot statemt that \"religion,not islam,is resp.4terism,\" needs medical intervention.Islaam cult,not real faiths,perpetrates hate-kills.', u'is_quote_status': False, u'in_reply_to_status_id': None, u'id': 869625618606039041, u'favorite_count': 0, u'entities': {u'symbols': [], u'user_mentions': [], u'hashtags': [{u'indices': [0, 4], u'text': u'NPR'}], u'urls': []}, u'retweeted': False, u'coordinates': None, u'source': u'<a href=\"http://twitter.com\" rel=\"nofollow\">Twitter Web Client</a>', u'in_reply_to_screen_name': None, u'in_reply_to_user_id': None, u'retweet_count': 0, u'id_str': u'869625618606039041', u'favorited': False, u'user': {u'follow_request_sent': None, u'has_extended_profile': False, u'profile_use_background_image': True, u'default_profile_image': False, u'id': 17333093, u'profile_background_image_url_https': u'https://pbs.twimg.com/profile_background_images/740618814274965505/LodDFSse.jpg', u'verified': False, u'translator_type': u'none', u'profile_text_color': u'000000', u'profile_image_url_https': u'https://pbs.twimg.com/profile_images/386460932/Marion-1_normal.jpg', u'profile_sidebar_fill_color': u'000000', u'entities': {u'description': {u'urls': []}}, u'followers_count': 965, u'profile_sidebar_border_color': u'000000', u'id_str': u'17333093', u'profile_background_color': u'000000', u'listed_count': 66, u'is_translation_enabled': False, u'utc_offset': -14400, u'statuses_count': 17089, u'description': u'Conservative biker, radio fanatic, medi-writ, film critic, Mensan, patriot, graphanalyst, reader-poet, polit. advocate, chocomaven, activist, journalist', u'friends_count': 899, u'location': u'Global', u'profile_link_color': u'981CEB', u'profile_image_url': u'http://pbs.twimg.com/profile_images/386460932/Marion-1_normal.jpg', u'following': None, u'geo_enabled': True, u'profile_background_image_url': u'http://pbs.twimg.com/profile_background_images/740618814274965505/LodDFSse.jpg', u'screen_name': u'dreyfus_marion', u'lang': u'en', u'profile_background_tile': False, u'favourites_count': 19, u'name': u'dreyfus_marion', u'notifications': None, u'url': None, u'created_at': u'Wed Nov 12 05:48:52 +0000 2008', u'contributors_enabled': False, u'time_zone': u'Eastern Time (US & Canada)', u'protected': False, u'default_profile': False, u'is_translator': False}, u'geo': None, u'in_reply_to_user_id_str': None, u'lang': u'en', u'created_at': u'Tue May 30 18:44:38 +0000 2017', u'in_reply_to_status_id_str': None, u'place': None, u'metadata': {u'iso_language_code': u'en', u'result_type': u'recent'}}, coordinates=None, entities={u'symbols': [], u'user_mentions': [], u'hashtags': [{u'indices': [0, 4], u'text': u'NPR'}], u'urls': []}, in_reply_to_screen_name=None, id_str=u'869625618606039041', retweet_count=0, in_reply_to_user_id=None, favorited=False, source_url=u'http://twitter.com', user=User(follow_request_sent=None, has_extended_profile=False, profile_use_background_image=True, _json={u'follow_request_sent': None, u'has_extended_profile': False, u'profile_use_background_image': True, u'default_profile_image': False, u'id': 17333093, u'profile_background_image_url_https': u'https://pbs.twimg.com/profile_background_images/740618814274965505/LodDFSse.jpg', u'verified': False, u'translator_type': u'none', u'profile_text_color': u'000000', u'profile_image_url_https': u'https://pbs.twimg.com/profile_images/386460932/Marion-1_normal.jpg', u'profile_sidebar_fill_color': u'000000', u'entities': {u'description': {u'urls': []}}, u'followers_count': 965, u'profile_sidebar_border_color': u'000000', u'id_str': u'17333093', u'profile_background_color': u'000000', u'listed_count': 66, u'is_translation_enabled': False, u'utc_offset': -14400, u'statuses_count': 17089, u'description': u'Conservative biker, radio fanatic, medi-writ, film critic, Mensan, patriot, graphanalyst, reader-poet, polit. advocate, chocomaven, activist, journalist', u'friends_count': 899, u'location': u'Global', u'profile_link_color': u'981CEB', u'profile_image_url': u'http://pbs.twimg.com/profile_images/386460932/Marion-1_normal.jpg', u'following': None, u'geo_enabled': True, u'profile_background_image_url': u'http://pbs.twimg.com/profile_background_images/740618814274965505/LodDFSse.jpg', u'screen_name': u'dreyfus_marion', u'lang': u'en', u'profile_background_tile': False, u'favourites_count': 19, u'name': u'dreyfus_marion', u'notifications': None, u'url': None, u'created_at': u'Wed Nov 12 05:48:52 +0000 2008', u'contributors_enabled': False, u'time_zone': u'Eastern Time (US & Canada)', u'protected': False, u'default_profile': False, u'is_translator': False}, time_zone=u'Eastern Time (US & Canada)', id=17333093, description=u'Conservative biker, radio fanatic, medi-writ, film critic, Mensan, patriot, graphanalyst, reader-poet, polit. advocate, chocomaven, activist, journalist', _api=<tweepy.api.API object at 0x115473e10>, verified=False, profile_text_color=u'000000', profile_image_url_https=u'https://pbs.twimg.com/profile_images/386460932/Marion-1_normal.jpg', profile_sidebar_fill_color=u'000000', is_translator=False, geo_enabled=True, entities={u'description': {u'urls': []}}, followers_count=965, protected=False, id_str=u'17333093', default_profile_image=False, listed_count=66, lang=u'en', utc_offset=-14400, statuses_count=17089, profile_background_color=u'000000', friends_count=899, profile_link_color=u'981CEB', profile_image_url=u'http://pbs.twimg.com/profile_images/386460932/Marion-1_normal.jpg', notifications=None, default_profile=False, profile_background_image_url_https=u'https://pbs.twimg.com/profile_background_images/740618814274965505/LodDFSse.jpg', profile_background_image_url=u'http://pbs.twimg.com/profile_background_images/740618814274965505/LodDFSse.jpg', name=u'dreyfus_marion', is_translation_enabled=False, profile_background_tile=False, favourites_count=19, screen_name=u'dreyfus_marion', url=None, created_at=datetime.datetime(2008, 11, 12, 5, 48, 52), contributors_enabled=False, location=u'Global', profile_sidebar_border_color=u'000000', translator_type=u'none', following=False), geo=None, in_reply_to_user_id_str=None, lang=u'en', created_at=datetime.datetime(2017, 5, 30, 18, 44, 38), in_reply_to_status_id_str=None, place=None, source=u'Twitter Web Client', retweeted=False, metadata={u'iso_language_code': u'en', u'result_type': u'recent'})>\n",
      "\n",
      "source : Twitter Web Client\n",
      "\n",
      "source_url : http://twitter.com\n",
      "\n",
      "text : #NPR idiot statemt that \"religion,not islam,is resp.4terism,\" needs medical intervention.Islaam cult,not real faiths,perpetrates hate-kills.\n",
      "\n",
      "truncated : False\n",
      "\n",
      "user : User(follow_request_sent=None, has_extended_profile=False, profile_use_background_image=True, _json={u'follow_request_sent': None, u'has_extended_profile': False, u'profile_use_background_image': True, u'default_profile_image': False, u'id': 17333093, u'profile_background_image_url_https': u'https://pbs.twimg.com/profile_background_images/740618814274965505/LodDFSse.jpg', u'verified': False, u'translator_type': u'none', u'profile_text_color': u'000000', u'profile_image_url_https': u'https://pbs.twimg.com/profile_images/386460932/Marion-1_normal.jpg', u'profile_sidebar_fill_color': u'000000', u'entities': {u'description': {u'urls': []}}, u'followers_count': 965, u'profile_sidebar_border_color': u'000000', u'id_str': u'17333093', u'profile_background_color': u'000000', u'listed_count': 66, u'is_translation_enabled': False, u'utc_offset': -14400, u'statuses_count': 17089, u'description': u'Conservative biker, radio fanatic, medi-writ, film critic, Mensan, patriot, graphanalyst, reader-poet, polit. advocate, chocomaven, activist, journalist', u'friends_count': 899, u'location': u'Global', u'profile_link_color': u'981CEB', u'profile_image_url': u'http://pbs.twimg.com/profile_images/386460932/Marion-1_normal.jpg', u'following': None, u'geo_enabled': True, u'profile_background_image_url': u'http://pbs.twimg.com/profile_background_images/740618814274965505/LodDFSse.jpg', u'screen_name': u'dreyfus_marion', u'lang': u'en', u'profile_background_tile': False, u'favourites_count': 19, u'name': u'dreyfus_marion', u'notifications': None, u'url': None, u'created_at': u'Wed Nov 12 05:48:52 +0000 2008', u'contributors_enabled': False, u'time_zone': u'Eastern Time (US & Canada)', u'protected': False, u'default_profile': False, u'is_translator': False}, time_zone=u'Eastern Time (US & Canada)', id=17333093, description=u'Conservative biker, radio fanatic, medi-writ, film critic, Mensan, patriot, graphanalyst, reader-poet, polit. advocate, chocomaven, activist, journalist', _api=<tweepy.api.API object at 0x115473e10>, verified=False, profile_text_color=u'000000', profile_image_url_https=u'https://pbs.twimg.com/profile_images/386460932/Marion-1_normal.jpg', profile_sidebar_fill_color=u'000000', is_translator=False, geo_enabled=True, entities={u'description': {u'urls': []}}, followers_count=965, protected=False, id_str=u'17333093', default_profile_image=False, listed_count=66, lang=u'en', utc_offset=-14400, statuses_count=17089, profile_background_color=u'000000', friends_count=899, profile_link_color=u'981CEB', profile_image_url=u'http://pbs.twimg.com/profile_images/386460932/Marion-1_normal.jpg', notifications=None, default_profile=False, profile_background_image_url_https=u'https://pbs.twimg.com/profile_background_images/740618814274965505/LodDFSse.jpg', profile_background_image_url=u'http://pbs.twimg.com/profile_background_images/740618814274965505/LodDFSse.jpg', name=u'dreyfus_marion', is_translation_enabled=False, profile_background_tile=False, favourites_count=19, screen_name=u'dreyfus_marion', url=None, created_at=datetime.datetime(2008, 11, 12, 5, 48, 52), contributors_enabled=False, location=u'Global', profile_sidebar_border_color=u'000000', translator_type=u'none', following=False)\n",
      "\n"
     ]
    }
   ],
   "source": [
    "tweet = result[0] #Get the first tweet in the result\n",
    "\n",
    "# Analyze the data in one tweet to see what we require\n",
    "for param in dir(tweet):\n",
    "#The key names beginning with an '_' are hidden ones and usually not required, so we'll skip them\n",
    "    if not param.startswith(\"_\"):\n",
    "        print \"%s : %s\\n\" % (param, eval('tweet.'+param))\n"
   ]
  },
  {
   "cell_type": "code",
   "execution_count": 7,
   "metadata": {},
   "outputs": [
    {
     "name": "stdout",
     "output_type": "stream",
     "text": [
      "500\n"
     ]
    }
   ],
   "source": [
    "results = []\n",
    "\n",
    "#Get the first 5000 items based on the search query\n",
    "for tweet in tweepy.Cursor(api.search, q='%23NPR').items(500):\n",
    "    results.append(tweet)\n",
    "\n",
    "# Verify the number of items returned\n",
    "print len(results)"
   ]
  },
  {
   "cell_type": "code",
   "execution_count": 8,
   "metadata": {
    "collapsed": true
   },
   "outputs": [],
   "source": [
    "# Create a function to convert a given list of tweets into a Pandas DataFrame.\n",
    "# The DataFrame will consist of only the values, which I think might be useful for analysis...\n",
    "\n",
    "\n",
    "def toDataFrame(tweets):\n",
    "\n",
    "    DataSet = pd.DataFrame()\n",
    "\n",
    "    DataSet['tweetID'] = [tweet.id for tweet in tweets]\n",
    "    DataSet['tweetText'] = [tweet.text for tweet in tweets]\n",
    "    DataSet['tweetRetweetCt'] = [tweet.retweet_count for tweet \n",
    "    in tweets]\n",
    "    DataSet['tweetFavoriteCt'] = [tweet.favorite_count for tweet \n",
    "    in tweets]\n",
    "    DataSet['tweetSource'] = [tweet.source for tweet in tweets]\n",
    "    DataSet['tweetCreated'] = [tweet.created_at for tweet in tweets]\n",
    "\n",
    "\n",
    "    DataSet['userID'] = [tweet.user.id for tweet in tweets]\n",
    "    DataSet['userScreen'] = [tweet.user.screen_name for tweet \n",
    "    in tweets]\n",
    "    DataSet['userName'] = [tweet.user.name for tweet in tweets]\n",
    "    DataSet['userCreateDt'] = [tweet.user.created_at for tweet \n",
    "    in tweets]\n",
    "    DataSet['userDesc'] = [tweet.user.description for tweet in tweets]\n",
    "    DataSet['userFollowerCt'] = [tweet.user.followers_count for tweet \n",
    "    in tweets]\n",
    "    DataSet['userFriendsCt'] = [tweet.user.friends_count for tweet \n",
    "    in tweets]\n",
    "    DataSet['userLocation'] = [tweet.user.location for tweet in tweets]\n",
    "    DataSet['userTimezone'] = [tweet.user.time_zone for tweet \n",
    "    in tweets]\n",
    "\n",
    "    return DataSet\n",
    "\n",
    "#Pass the tweets list to the above function to create a DataFrame\n",
    "DataSet = toDataFrame(results)"
   ]
  },
  {
   "cell_type": "code",
   "execution_count": 9,
   "metadata": {},
   "outputs": [
    {
     "data": {
      "text/html": [
       "<div>\n",
       "<style>\n",
       "    .dataframe thead tr:only-child th {\n",
       "        text-align: right;\n",
       "    }\n",
       "\n",
       "    .dataframe thead th {\n",
       "        text-align: left;\n",
       "    }\n",
       "\n",
       "    .dataframe tbody tr th {\n",
       "        vertical-align: top;\n",
       "    }\n",
       "</style>\n",
       "<table border=\"1\" class=\"dataframe\">\n",
       "  <thead>\n",
       "    <tr style=\"text-align: right;\">\n",
       "      <th></th>\n",
       "      <th>tweetID</th>\n",
       "      <th>tweetText</th>\n",
       "      <th>tweetRetweetCt</th>\n",
       "      <th>tweetFavoriteCt</th>\n",
       "      <th>tweetSource</th>\n",
       "      <th>tweetCreated</th>\n",
       "      <th>userID</th>\n",
       "      <th>userScreen</th>\n",
       "      <th>userName</th>\n",
       "      <th>userCreateDt</th>\n",
       "      <th>userDesc</th>\n",
       "      <th>userFollowerCt</th>\n",
       "      <th>userFriendsCt</th>\n",
       "      <th>userLocation</th>\n",
       "      <th>userTimezone</th>\n",
       "    </tr>\n",
       "  </thead>\n",
       "  <tbody>\n",
       "    <tr>\n",
       "      <th>0</th>\n",
       "      <td>869625818342936576</td>\n",
       "      <td>New story from #NPR: \"A Music Video's Message ...</td>\n",
       "      <td>0</td>\n",
       "      <td>0</td>\n",
       "      <td>IFTTT</td>\n",
       "      <td>2017-05-30 18:45:26</td>\n",
       "      <td>866250776036986880</td>\n",
       "      <td>JakteOfficial</td>\n",
       "      <td>Jakte</td>\n",
       "      <td>2017-05-21 11:14:13</td>\n",
       "      <td>Another hour with @JakteOfficial! It's May 30,...</td>\n",
       "      <td>1</td>\n",
       "      <td>0</td>\n",
       "      <td></td>\n",
       "      <td>None</td>\n",
       "    </tr>\n",
       "    <tr>\n",
       "      <th>1</th>\n",
       "      <td>869625738000859136</td>\n",
       "      <td>A Music Video's Message Of Religious Tolerance...</td>\n",
       "      <td>0</td>\n",
       "      <td>0</td>\n",
       "      <td>dlvr.it</td>\n",
       "      <td>2017-05-30 18:45:07</td>\n",
       "      <td>419845598</td>\n",
       "      <td>BizFuturist</td>\n",
       "      <td>Hal Palmer</td>\n",
       "      <td>2011-11-23 21:27:38</td>\n",
       "      <td>I tweet about new #businesstrends and the view...</td>\n",
       "      <td>6110</td>\n",
       "      <td>5730</td>\n",
       "      <td>NYC/NJ</td>\n",
       "      <td>Central Time (US &amp; Canada)</td>\n",
       "    </tr>\n",
       "    <tr>\n",
       "      <th>2</th>\n",
       "      <td>869625618606039041</td>\n",
       "      <td>#NPR idiot statemt that \"religion,not islam,is...</td>\n",
       "      <td>0</td>\n",
       "      <td>0</td>\n",
       "      <td>Twitter Web Client</td>\n",
       "      <td>2017-05-30 18:44:38</td>\n",
       "      <td>17333093</td>\n",
       "      <td>dreyfus_marion</td>\n",
       "      <td>dreyfus_marion</td>\n",
       "      <td>2008-11-12 05:48:52</td>\n",
       "      <td>Conservative biker, radio fanatic, medi-writ, ...</td>\n",
       "      <td>965</td>\n",
       "      <td>899</td>\n",
       "      <td>Global</td>\n",
       "      <td>Eastern Time (US &amp; Canada)</td>\n",
       "    </tr>\n",
       "    <tr>\n",
       "      <th>3</th>\n",
       "      <td>869625323696136192</td>\n",
       "      <td>A Music Video's Message Of Religious Tolerance...</td>\n",
       "      <td>0</td>\n",
       "      <td>0</td>\n",
       "      <td>IFTTT</td>\n",
       "      <td>2017-05-30 18:43:28</td>\n",
       "      <td>2559933055</td>\n",
       "      <td>Indie_Brew</td>\n",
       "      <td>Indie Brew</td>\n",
       "      <td>2014-06-10 21:03:51</td>\n",
       "      <td>Indie Brew is a project of Jamie &amp; Shelly; The...</td>\n",
       "      <td>977</td>\n",
       "      <td>204</td>\n",
       "      <td>Greater New York Area</td>\n",
       "      <td>None</td>\n",
       "    </tr>\n",
       "    <tr>\n",
       "      <th>4</th>\n",
       "      <td>869625243962363904</td>\n",
       "      <td>RT @DemocratCespool: Leftist Liberal Dems are ...</td>\n",
       "      <td>3</td>\n",
       "      <td>0</td>\n",
       "      <td>Twitter Web Client</td>\n",
       "      <td>2017-05-30 18:43:09</td>\n",
       "      <td>43682070</td>\n",
       "      <td>KeiLargo</td>\n",
       "      <td>Kei Largo</td>\n",
       "      <td>2009-05-31 12:37:28</td>\n",
       "      <td>Left &amp; Right - NO! My message to Black America...</td>\n",
       "      <td>129</td>\n",
       "      <td>168</td>\n",
       "      <td>iPhone: 41.736103,-87.623482</td>\n",
       "      <td>Mexico City</td>\n",
       "    </tr>\n",
       "  </tbody>\n",
       "</table>\n",
       "</div>"
      ],
      "text/plain": [
       "              tweetID                                          tweetText  \\\n",
       "0  869625818342936576  New story from #NPR: \"A Music Video's Message ...   \n",
       "1  869625738000859136  A Music Video's Message Of Religious Tolerance...   \n",
       "2  869625618606039041  #NPR idiot statemt that \"religion,not islam,is...   \n",
       "3  869625323696136192  A Music Video's Message Of Religious Tolerance...   \n",
       "4  869625243962363904  RT @DemocratCespool: Leftist Liberal Dems are ...   \n",
       "\n",
       "   tweetRetweetCt  tweetFavoriteCt         tweetSource        tweetCreated  \\\n",
       "0               0                0               IFTTT 2017-05-30 18:45:26   \n",
       "1               0                0             dlvr.it 2017-05-30 18:45:07   \n",
       "2               0                0  Twitter Web Client 2017-05-30 18:44:38   \n",
       "3               0                0               IFTTT 2017-05-30 18:43:28   \n",
       "4               3                0  Twitter Web Client 2017-05-30 18:43:09   \n",
       "\n",
       "               userID      userScreen        userName        userCreateDt  \\\n",
       "0  866250776036986880   JakteOfficial           Jakte 2017-05-21 11:14:13   \n",
       "1           419845598     BizFuturist      Hal Palmer 2011-11-23 21:27:38   \n",
       "2            17333093  dreyfus_marion  dreyfus_marion 2008-11-12 05:48:52   \n",
       "3          2559933055      Indie_Brew      Indie Brew 2014-06-10 21:03:51   \n",
       "4            43682070        KeiLargo       Kei Largo 2009-05-31 12:37:28   \n",
       "\n",
       "                                            userDesc  userFollowerCt  \\\n",
       "0  Another hour with @JakteOfficial! It's May 30,...               1   \n",
       "1  I tweet about new #businesstrends and the view...            6110   \n",
       "2  Conservative biker, radio fanatic, medi-writ, ...             965   \n",
       "3  Indie Brew is a project of Jamie & Shelly; The...             977   \n",
       "4  Left & Right - NO! My message to Black America...             129   \n",
       "\n",
       "   userFriendsCt                  userLocation                userTimezone  \n",
       "0              0                                                      None  \n",
       "1           5730                        NYC/NJ  Central Time (US & Canada)  \n",
       "2            899                        Global  Eastern Time (US & Canada)  \n",
       "3            204         Greater New York Area                        None  \n",
       "4            168  iPhone: 41.736103,-87.623482                 Mexico City  "
      ]
     },
     "execution_count": 9,
     "metadata": {},
     "output_type": "execute_result"
    }
   ],
   "source": [
    "# Let's check the top 5 records in the Data Set\n",
    "DataSet.head(5)"
   ]
  },
  {
   "cell_type": "code",
   "execution_count": 10,
   "metadata": {},
   "outputs": [
    {
     "data": {
      "text/html": [
       "<div>\n",
       "<style>\n",
       "    .dataframe thead tr:only-child th {\n",
       "        text-align: right;\n",
       "    }\n",
       "\n",
       "    .dataframe thead th {\n",
       "        text-align: left;\n",
       "    }\n",
       "\n",
       "    .dataframe tbody tr th {\n",
       "        vertical-align: top;\n",
       "    }\n",
       "</style>\n",
       "<table border=\"1\" class=\"dataframe\">\n",
       "  <thead>\n",
       "    <tr style=\"text-align: right;\">\n",
       "      <th></th>\n",
       "      <th>tweetID</th>\n",
       "      <th>tweetText</th>\n",
       "      <th>tweetRetweetCt</th>\n",
       "      <th>tweetFavoriteCt</th>\n",
       "      <th>tweetSource</th>\n",
       "      <th>tweetCreated</th>\n",
       "      <th>userID</th>\n",
       "      <th>userScreen</th>\n",
       "      <th>userName</th>\n",
       "      <th>userCreateDt</th>\n",
       "      <th>userDesc</th>\n",
       "      <th>userFollowerCt</th>\n",
       "      <th>userFriendsCt</th>\n",
       "      <th>userLocation</th>\n",
       "      <th>userTimezone</th>\n",
       "    </tr>\n",
       "  </thead>\n",
       "  <tbody>\n",
       "    <tr>\n",
       "      <th>498</th>\n",
       "      <td>869262149620711424</td>\n",
       "      <td>#FrankDeford, @hbo @RealSportsHBO @NPR #npr #H...</td>\n",
       "      <td>0</td>\n",
       "      <td>0</td>\n",
       "      <td>Twitter for iPhone</td>\n",
       "      <td>2017-05-29 18:40:21</td>\n",
       "      <td>234516181</td>\n",
       "      <td>onelocalfamily</td>\n",
       "      <td>OneLocalFamily</td>\n",
       "      <td>2011-01-05 21:15:51</td>\n",
       "      <td>#Chatbots #AI #Startups #dad 💡Featured in @In...</td>\n",
       "      <td>1704</td>\n",
       "      <td>2810</td>\n",
       "      <td>Scottsdale, AZ Los Angeles, CA</td>\n",
       "      <td>Arizona</td>\n",
       "    </tr>\n",
       "    <tr>\n",
       "      <th>499</th>\n",
       "      <td>869261962361917440</td>\n",
       "      <td>RT @iskandrah: Frank Deford, #NPR's Longtime S...</td>\n",
       "      <td>1</td>\n",
       "      <td>0</td>\n",
       "      <td>Twitter for Android</td>\n",
       "      <td>2017-05-29 18:39:36</td>\n",
       "      <td>24782405</td>\n",
       "      <td>Aire_Apparent</td>\n",
       "      <td>Aire_Apparently</td>\n",
       "      <td>2009-03-16 22:17:58</td>\n",
       "      <td>Writer, Script Consultant and Second-Hand Terr...</td>\n",
       "      <td>490</td>\n",
       "      <td>709</td>\n",
       "      <td>Toronto, Ontario</td>\n",
       "      <td>Eastern Time (US &amp; Canada)</td>\n",
       "    </tr>\n",
       "  </tbody>\n",
       "</table>\n",
       "</div>"
      ],
      "text/plain": [
       "                tweetID                                          tweetText  \\\n",
       "498  869262149620711424  #FrankDeford, @hbo @RealSportsHBO @NPR #npr #H...   \n",
       "499  869261962361917440  RT @iskandrah: Frank Deford, #NPR's Longtime S...   \n",
       "\n",
       "     tweetRetweetCt  tweetFavoriteCt          tweetSource        tweetCreated  \\\n",
       "498               0                0   Twitter for iPhone 2017-05-29 18:40:21   \n",
       "499               1                0  Twitter for Android 2017-05-29 18:39:36   \n",
       "\n",
       "        userID      userScreen         userName        userCreateDt  \\\n",
       "498  234516181  onelocalfamily   OneLocalFamily 2011-01-05 21:15:51   \n",
       "499   24782405   Aire_Apparent  Aire_Apparently 2009-03-16 22:17:58   \n",
       "\n",
       "                                              userDesc  userFollowerCt  \\\n",
       "498  #Chatbots #AI #Startups #dad 💡Featured in @In...            1704   \n",
       "499  Writer, Script Consultant and Second-Hand Terr...             490   \n",
       "\n",
       "     userFriendsCt                    userLocation                userTimezone  \n",
       "498           2810  Scottsdale, AZ Los Angeles, CA                     Arizona  \n",
       "499            709                Toronto, Ontario  Eastern Time (US & Canada)  "
      ]
     },
     "execution_count": 10,
     "metadata": {},
     "output_type": "execute_result"
    }
   ],
   "source": [
    "# Similarly let's check the last 2 records in the Data Set\n",
    "DataSet.tail(2)"
   ]
  },
  {
   "cell_type": "code",
   "execution_count": 11,
   "metadata": {},
   "outputs": [
    {
     "data": {
      "text/plain": [
       "293"
      ]
     },
     "execution_count": 11,
     "metadata": {},
     "output_type": "execute_result"
    }
   ],
   "source": [
    "# 'None' is treated as null here, so I'll remove all the records having'None' in their 'userTimezone' column\n",
    "DataSet = DataSet[DataSet.userTimezone.notnull()]\n",
    "\n",
    "# Let's also check how many records are we left with now\n",
    "len(DataSet)"
   ]
  },
  {
   "cell_type": "code",
   "execution_count": 16,
   "metadata": {},
   "outputs": [
    {
     "data": {
      "text/plain": [
       "293"
      ]
     },
     "execution_count": 16,
     "metadata": {},
     "output_type": "execute_result"
    }
   ],
   "source": [
    "# puifai's gonna try to grab tweet text\n",
    "DataSet2 = DataSet[DataSet.tweetText.notnull()]\n",
    "len(DataSet2)"
   ]
  },
  {
   "cell_type": "code",
   "execution_count": 12,
   "metadata": {},
   "outputs": [
    {
     "name": "stdout",
     "output_type": "stream",
     "text": [
      "Eastern Time (US & Canada)     95\n",
      "Pacific Time (US & Canada)     79\n",
      "Central Time (US & Canada)     37\n",
      "Tokyo                          25\n",
      "Quito                           7\n",
      "Mountain Time (US & Canada)     7\n",
      "America/New_York                6\n",
      "Atlantic Time (Canada)          6\n",
      "London                          4\n",
      "Arizona                         4\n",
      "Name: userTimezone, dtype: int64\n"
     ]
    }
   ],
   "source": [
    "# Count the number of tweets in each time zone and get the first 10\n",
    "tzs = DataSet['userTimezone'].value_counts()[:10]\n",
    "print tzs"
   ]
  },
  {
   "cell_type": "code",
   "execution_count": null,
   "metadata": {
    "collapsed": true
   },
   "outputs": [],
   "source": []
  },
  {
   "cell_type": "code",
   "execution_count": 17,
   "metadata": {},
   "outputs": [
    {
     "name": "stdout",
     "output_type": "stream",
     "text": [
      "RT @LadyPatriot2000: Leftist Liberal Dems are not just Idiots, they are Dangerous. #Athiest #DemFail #IdiotDems #NPR #tcot #tlot #P2 https:…    7\n",
      "RT @IDontMissdotcom: Leftist Liberal Dems are not just Idiots, they are Dangerous. #Athiest #DemFail #IdiotDems #NPR #tcot #tlot #P2 https:…    6\n",
      "RT @DJTrump45: Leftist Liberal Dems are not just Idiots, they are Dangerous. #Athiest #DemFail #IdiotDems #NPR #tcot #tlot #P2 https://t.co…    6\n",
      "RT @LibertysHeroes: Leftist Liberal Dems are not just Idiots, they are Dangerous. #Athiest #DemFail #IdiotDems #NPR #tcot #tlot #P2 https:/…    5\n",
      "RT @VegasVictory: Leftist Liberal Dems are not just Idiots, they are Dangerous. #Athiest #DemFail #IdiotDems #NPR #tcot #tlot #P2 https://t…    4\n",
      "RT @LibertyLivesHer: Leftist Liberal Dems are not just Idiots, they are Dangerous. #Athiest #DemFail #IdiotDems #NPR #tcot #tlot #P2 https:…    4\n",
      "RT @IdiotDems: Leftist Liberal Dems are not just Idiots, they are Dangerous. #Athiest #DemFail #IdiotDems #NPR #tcot #tlot #P2 https://t.co…    3\n",
      "RT @ScandalsRUs: Leftist Liberal Dems are not just Idiots, they are Dangerous. #Athiest #DemFail #IdiotDems #NPR #tcot #tlot #P2 https://t.…    3\n",
      "RT @NPRjobs: #NPR is looking for a #Director, NPR #Music, apply now! (#WASHDC) #job https://t.co/PNOdesaZTn https://t.co/T1dMsKeRuP             3\n",
      "RT @redostoneage: A Response To Leftist Idiot Katy Perry https://t.co/Eolgyd5bdq #chicago #cltv #PBSnews #PBSnewshour #npr #tcot #tlot #amp…    2\n",
      "Name: tweetText, dtype: int64\n"
     ]
    }
   ],
   "source": [
    "#puifai stuff\n",
    "# Count the number of tweets in each time zone and get the first 10\n",
    "ttx = DataSet2['tweetText'].value_counts()[:10]\n",
    "print ttx"
   ]
  },
  {
   "cell_type": "code",
   "execution_count": 14,
   "metadata": {},
   "outputs": [
    {
     "data": {
      "text/plain": [
       "<matplotlib.text.Text at 0x11a43ccd0>"
      ]
     },
     "execution_count": 14,
     "metadata": {},
     "output_type": "execute_result"
    },
    {
     "data": {
      "image/png": "[encoded data removed]",
      "text/plain": [
       "<matplotlib.figure.Figure at 0x11a215c10>"
      ]
     },
     "metadata": {},
     "output_type": "display_data"
    }
   ],
   "source": [
    "# Create a bar-graph figure of the specified size\n",
    "plt.rcParams['figure.figsize'] = (15, 5)\n",
    "\n",
    "# Plot the Time Zone data as a bar-graph\n",
    "tzs.plot(kind='bar')\n",
    "\n",
    "\n",
    "# Assign labels and title to the graph to make it more presentable\n",
    "plt.xlabel('Timezones')\n",
    "plt.ylabel('Tweet Count')\n",
    "plt.title('Top 10 Timezones tweeting about #NPR')\n"
   ]
  },
  {
   "cell_type": "code",
   "execution_count": null,
   "metadata": {
    "collapsed": true
   },
   "outputs": [],
   "source": []
  }
 ],
 "metadata": {
  "kernelspec": {
   "display_name": "Python 2",
   "language": "python",
   "name": "python2"
  },
  "language_info": {
   "codemirror_mode": {
    "name": "ipython",
    "version": 2
   },
   "file_extension": ".py",
   "mimetype": "text/x-python",
   "name": "python",
   "nbconvert_exporter": "python",
   "pygments_lexer": "ipython2",
   "version": "2.7.13"
  }
 },
 "nbformat": 4,
 "nbformat_minor": 2
}
