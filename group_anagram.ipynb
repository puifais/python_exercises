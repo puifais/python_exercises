{
 "cells": [
  {
   "cell_type": "markdown",
   "metadata": {},
   "source": [
    "Given an array of strings, group anagrams together.\n",
    "\n",
    "For example, given: [\"eat\", \"tea\", \"tan\", \"ate\", \"nat\", \"bat\"], \n",
    "Return:\n",
    "[\n",
    "  [\"ate\", \"eat\",\"tea\"],\n",
    "  [\"nat\",\"tan\"],\n",
    "  [\"bat\"]\n",
    "]"
   ]
  },
  {
   "cell_type": "code",
   "execution_count": 17,
   "metadata": {
    "collapsed": true
   },
   "outputs": [],
   "source": [
    "def group_anagram(given_str_list):\n",
    "    #assume all lower cases\n",
    "    anagram_dict = {}\n",
    "    for word in given_str_list:\n",
    "        print(word)\n",
    "        print(anagram_dict)\n",
    "        if str(sorted(word)) in anagram_dict:\n",
    "            anagram_dict[str(sorted(word))].append(word)\n",
    "        else:\n",
    "            anagram_dict[str(sorted(word))] = [word]\n",
    "    list_str_list = []\n",
    "    for key in anagram_dict:\n",
    "        list_str_list.append(anagram_dict[key])\n",
    "    print('final answer:  ', list_str_list)"
   ]
  },
  {
   "cell_type": "code",
   "execution_count": 18,
   "metadata": {
    "collapsed": false
   },
   "outputs": [
    {
     "name": "stdout",
     "output_type": "stream",
     "text": [
      "eat\n",
      "{}\n",
      "tea\n",
      "{\"['a', 'e', 't']\": ['eat']}\n",
      "tan\n",
      "{\"['a', 'e', 't']\": ['eat', 'tea']}\n",
      "ate\n",
      "{\"['a', 'e', 't']\": ['eat', 'tea'], \"['a', 'n', 't']\": ['tan']}\n",
      "nat\n",
      "{\"['a', 'e', 't']\": ['eat', 'tea', 'ate'], \"['a', 'n', 't']\": ['tan']}\n",
      "bat\n",
      "{\"['a', 'e', 't']\": ['eat', 'tea', 'ate'], \"['a', 'n', 't']\": ['tan', 'nat']}\n",
      "final answer:   [['eat', 'tea', 'ate'], ['tan', 'nat'], ['bat']]\n"
     ]
    }
   ],
   "source": [
    "test_input = [\"eat\", \"tea\", \"tan\", \"ate\", \"nat\", \"bat\"]\n",
    "group_anagram(test_input)"
   ]
  },
  {
   "cell_type": "code",
   "execution_count": null,
   "metadata": {
    "collapsed": true
   },
   "outputs": [],
   "source": []
  }
 ],
 "metadata": {
  "kernelspec": {
   "display_name": "Python 3",
   "language": "python",
   "name": "python3"
  },
  "language_info": {
   "codemirror_mode": {
    "name": "ipython",
    "version": 3
   },
   "file_extension": ".py",
   "mimetype": "text/x-python",
   "name": "python",
   "nbconvert_exporter": "python",
   "pygments_lexer": "ipython3",
   "version": "3.6.0"
  }
 },
 "nbformat": 4,
 "nbformat_minor": 2
}
