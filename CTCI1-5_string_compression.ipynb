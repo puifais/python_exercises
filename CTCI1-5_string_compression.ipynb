{
 "cells": [
  {
   "cell_type": "markdown",
   "metadata": {},
   "source": [
    "### Write a method to compress string. If the compressed string is not shorter than the original, return the original\n",
    "\n",
    "example:  aaabbbcccaa should become a3b3c3a2"
   ]
  },
  {
   "cell_type": "code",
   "execution_count": 14,
   "metadata": {
    "collapsed": true
   },
   "outputs": [],
   "source": [
    "def compress_string(given_string):\n",
    "    last_char = ''\n",
    "    compressed_string = ''\n",
    "    char_count = 0\n",
    "    for char in given_string:\n",
    "        if char == last_char or last_char == '':\n",
    "            char_count += 1\n",
    "            last_char = char\n",
    "        else:\n",
    "            compressed_string = compressed_string + last_char + str(char_count)\n",
    "            last_char = char\n",
    "            char_count = 1\n",
    "            \n",
    "    compressed_string = compressed_string + given_string[-1] + str(char_count)\n",
    "    print(compressed_string)"
   ]
  },
  {
   "cell_type": "code",
   "execution_count": 15,
   "metadata": {
    "collapsed": false
   },
   "outputs": [
    {
     "name": "stdout",
     "output_type": "stream",
     "text": [
      "a3b3c3a2\n"
     ]
    }
   ],
   "source": [
    "compress_string('aaabbbcccaa')"
   ]
  }
 ],
 "metadata": {
  "kernelspec": {
   "display_name": "Python 3",
   "language": "python",
   "name": "python3"
  },
  "language_info": {
   "codemirror_mode": {
    "name": "ipython",
    "version": 3
   },
   "file_extension": ".py",
   "mimetype": "text/x-python",
   "name": "python",
   "nbconvert_exporter": "python",
   "pygments_lexer": "ipython3",
   "version": "3.6.0"
  }
 },
 "nbformat": 4,
 "nbformat_minor": 1
}
