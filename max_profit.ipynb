{
 "cells": [
  {
   "cell_type": "markdown",
   "metadata": {},
   "source": [
    "given historical stock price for each day, determine max profit possible:"
   ]
  },
  {
   "cell_type": "code",
   "execution_count": 3,
   "metadata": {
    "collapsed": true
   },
   "outputs": [],
   "source": [
    "prices = [10, 50, 20, 100, 5, 110, 120]"
   ]
  },
  {
   "cell_type": "code",
   "execution_count": 4,
   "metadata": {
    "collapsed": true
   },
   "outputs": [],
   "source": [
    "# first way. less efficient. O(n^2)\n",
    "def get_max_profit1(prices):\n",
    "    max_profit = 0\n",
    "\n",
    "    for today_index, today_price in enumerate(prices):\n",
    "        for sell_price in prices[today_index:]:\n",
    "            possible_profit = sell_price - today_price\n",
    "            if possible_profit > max_profit:\n",
    "                max_profit = possible_profit\n",
    "    return max_profit"
   ]
  },
  {
   "cell_type": "code",
   "execution_count": 5,
   "metadata": {
    "collapsed": false
   },
   "outputs": [
    {
     "data": {
      "text/plain": [
       "115"
      ]
     },
     "execution_count": 5,
     "metadata": {},
     "output_type": "execute_result"
    }
   ],
   "source": [
    "get_max_profit1(prices)"
   ]
  },
  {
   "cell_type": "code",
   "execution_count": 4,
   "metadata": {
    "collapsed": true
   },
   "outputs": [],
   "source": [
    "# second way. more efficient\n",
    "def get_max_profit2(prices):\n",
    "    lowest_buy = prices[0]\n",
    "    highest_sell = prices[0]\n",
    "    yesterday_price = prices[0]\n",
    "    max_profit = 0\n",
    "    \n",
    "    for today_price in prices:\n",
    "        if yesterday_price < lowest_buy:\n",
    "            lowest_buy = yesterday_price\n",
    "        if today_price > highest_sell:\n",
    "            highest_sell = today_price\n",
    "        max_profit = highest_sell - lowest_buy\n",
    "        print('today_price:  %d' %today_price)\n",
    "        print('max_profit:  %d' %max_profit)\n",
    "        print('lowest_buy:  %d' %lowest_buy)\n",
    "        print('highest_sell:  %d' %highest_sell)\n",
    "        print('')\n",
    "        yesterday_price = today_price\n",
    "\n",
    "    return max_profit"
   ]
  },
  {
   "cell_type": "code",
   "execution_count": 5,
   "metadata": {
    "collapsed": false
   },
   "outputs": [
    {
     "name": "stdout",
     "output_type": "stream",
     "text": [
      "today_price:  10\n",
      "max_profit:  0\n",
      "lowest_buy:  10\n",
      "highest_sell:  10\n",
      "\n",
      "today_price:  50\n",
      "max_profit:  40\n",
      "lowest_buy:  10\n",
      "highest_sell:  50\n",
      "\n",
      "today_price:  20\n",
      "max_profit:  40\n",
      "lowest_buy:  10\n",
      "highest_sell:  50\n",
      "\n",
      "today_price:  100\n",
      "max_profit:  90\n",
      "lowest_buy:  10\n",
      "highest_sell:  100\n",
      "\n",
      "today_price:  5\n",
      "max_profit:  90\n",
      "lowest_buy:  10\n",
      "highest_sell:  100\n",
      "\n",
      "today_price:  110\n",
      "max_profit:  105\n",
      "lowest_buy:  5\n",
      "highest_sell:  110\n",
      "\n",
      "today_price:  120\n",
      "max_profit:  115\n",
      "lowest_buy:  5\n",
      "highest_sell:  120\n",
      "\n"
     ]
    },
    {
     "data": {
      "text/plain": [
       "115"
      ]
     },
     "execution_count": 5,
     "metadata": {},
     "output_type": "execute_result"
    }
   ],
   "source": [
    "get_max_profit2(prices)"
   ]
  },
  {
   "cell_type": "code",
   "execution_count": null,
   "metadata": {
    "collapsed": true
   },
   "outputs": [],
   "source": []
  }
 ],
 "metadata": {
  "kernelspec": {
   "display_name": "Python 3",
   "language": "python",
   "name": "python3"
  },
  "language_info": {
   "codemirror_mode": {
    "name": "ipython",
    "version": 3
   },
   "file_extension": ".py",
   "mimetype": "text/x-python",
   "name": "python",
   "nbconvert_exporter": "python",
   "pygments_lexer": "ipython3",
   "version": "3.6.0"
  }
 },
 "nbformat": 4,
 "nbformat_minor": 2
}
